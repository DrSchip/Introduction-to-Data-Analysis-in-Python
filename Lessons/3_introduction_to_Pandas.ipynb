{
 "cells": [
  {
   "cell_type": "markdown",
   "id": "6d40f36b-9d79-409b-b9a1-c7de33306e5c",
   "metadata": {},
   "source": [
    "# Introduction to Pandas"
   ]
  },
  {
   "cell_type": "markdown",
   "id": "b15598ac-0484-44e3-a324-5f66575e35b0",
   "metadata": {},
   "source": [
    "Pandas is an open-source data manipulation and analysis library for Python. It provides data structures and functions needed to manipulate and analyze structured data seamlessly. The two primary data structures in Pandas are:\n",
    "\n",
    "- **Series:** a one-dimensional labeled array that can hold any data type. It is similar to a column in a spreadsheet or a single column in a database table.\n",
    "- **DataFrame:** A two-dimensional labeled data structure with columns that can be of different data types. It is similar to a spreadsheet or a SQL table, where data is organized in rows and columns.\n",
    "\n",
    "Key features of Pandas include:\n",
    "\n",
    "- **Data Cleaning and Preparation:** Pandas provides functions and methods to clean and prepare data, such as handling missing values, dealing with duplicates, and transforming data.\n",
    "\n",
    "- **Data Exploration and Analysis:** Pandas facilitates the exploration and analysis of data through various functions for summarization, grouping, aggregation, and statistical analysis.\n",
    "\n",
    "- **Time Series Analysis:** Pandas has robust support for time series data, allowing for easy manipulation and analysis of temporal data.\n",
    "\n",
    "- **Integration with Other Libraries:** Pandas can be seamlessly integrated with other libraries such as NumPy, Matplotlib, and scikit-learn, providing a comprehensive ecosystem for data analysis and machine learning.\n",
    "\n",
    "- **Data Import and Export:** Pandas supports the import and export of data from various file formats, including CSV, Excel, SQL databases, and more."
   ]
  },
  {
   "cell_type": "markdown",
   "id": "e6321ccb-c69b-4ad7-b391-d4880939f651",
   "metadata": {},
   "source": [
    "## Series\n",
    "\n",
    "As stated above, **Series** is a one-dimensional array-like object that contains a sequence of values of the same type, each identified by an appropriate label. A Series is composed of two array-like objects: one containing the sequence of values and the other containing the associated array of data labels (alled the *index*). As a convention, `pandas` is imported as `pd`."
   ]
  },
  {
   "cell_type": "code",
   "execution_count": 103,
   "id": "977393fb-3b7e-4cea-bac2-8bc5b8b119b2",
   "metadata": {},
   "outputs": [
    {
     "name": "stdout",
     "output_type": "stream",
     "text": [
      "The Series:\n",
      " 0    844\n",
      "1    817\n",
      "2    134\n",
      "3    698\n",
      "4    427\n",
      "5    224\n",
      "6    450\n",
      "7    786\n",
      "8    743\n",
      "9    490\n",
      "dtype: int64\n",
      "\n",
      "The sequence of values is:\n",
      " <NumpyExtensionArray>\n",
      "[np.int64(844), np.int64(817), np.int64(134), np.int64(698), np.int64(427),\n",
      " np.int64(224), np.int64(450), np.int64(786), np.int64(743), np.int64(490)]\n",
      "Length: 10, dtype: int64\n",
      "\n",
      "The index is:\n",
      " RangeIndex(start=0, stop=10, step=1)\n"
     ]
    }
   ],
   "source": [
    "# Importing necessary libraries\n",
    "import pandas as pd\n",
    "import numpy as np\n",
    "\n",
    "# Creating a Pandas Series with 10 random values chosen from the range 0 to 999\n",
    "my_series = pd.Series(np.random.choice(1000, size=10))\n",
    "\n",
    "# Printing the entire Series\n",
    "print(\"The Series:\\n\", my_series)\n",
    "\n",
    "# Printing the sequence of values using the Pandas Array attribute\n",
    "print(\"\\nThe sequence of values is:\\n\", my_series.array)\n",
    "\n",
    "# Printing the index of the Series\n",
    "print(\"\\nThe index is:\\n\", my_series.index)"
   ]
  },
  {
   "cell_type": "markdown",
   "id": "7c11d86a-bc53-4cd0-8dd5-631172280c07",
   "metadata": {},
   "source": [
    "The index labels can be specified using the parameter `index` within the `pd.Series()` constructor, as shown below:"
   ]
  },
  {
   "cell_type": "code",
   "execution_count": 104,
   "id": "fedea378-417b-4978-ac08-3aa26a1040d9",
   "metadata": {},
   "outputs": [
    {
     "name": "stdout",
     "output_type": "stream",
     "text": [
      "a    379\n",
      "b    902\n",
      "c    578\n",
      "d    127\n",
      "e    183\n",
      "f    326\n",
      "g     87\n",
      "h    953\n",
      "i    170\n",
      "j    607\n",
      "dtype: int64\n"
     ]
    }
   ],
   "source": [
    "# Importing the 'string' module for character manipulation\n",
    "import string\n",
    "\n",
    "# Creating a Pandas Series with 10 random values and a custom index of the first 10 lowercase letters\n",
    "my_series = pd.Series(np.random.choice(1000, size=10), index=list(string.ascii_lowercase)[0:10])\n",
    "\n",
    "# Displaying the Series\n",
    "print(my_series)"
   ]
  },
  {
   "cell_type": "markdown",
   "id": "bc93cb4f-b466-4c66-b5ee-2bd8f73847a9",
   "metadata": {},
   "source": [
    "The `index` of a series can be modified by assigning a new index to its attribute `pd.Series.index`."
   ]
  },
  {
   "cell_type": "code",
   "execution_count": 105,
   "id": "8a4821f1-71de-4283-b327-61362b93e1c8",
   "metadata": {},
   "outputs": [
    {
     "name": "stdout",
     "output_type": "stream",
     "text": [
      "The new index array for my series: ['E', 'F', 'C', 'B', 'H', 'A', 'I', 'J', 'G', 'D']\n",
      "\n",
      "Series with New Index:\n",
      "E    379\n",
      "F    902\n",
      "C    578\n",
      "B    127\n",
      "H    183\n",
      "A    326\n",
      "I     87\n",
      "J    953\n",
      "G    170\n",
      "D    607\n",
      "dtype: int64\n"
     ]
    }
   ],
   "source": [
    "# Creating a list of the first 10 uppercase letters\n",
    "new_index = list(string.ascii_uppercase)[0:10]\n",
    "\n",
    "# Shuffling the list using np.random.shuffle\n",
    "np.random.shuffle(new_index)\n",
    "\n",
    "# Displaying the shuffled index array\n",
    "print(f\"The new index array for my series: {new_index}\")\n",
    "\n",
    "# Assigning the shuffled index to the Pandas Series\n",
    "my_series.index = new_index\n",
    "\n",
    "# Displaying the Series with the new index\n",
    "print(\"\\nSeries with New Index:\")\n",
    "print(my_series)"
   ]
  },
  {
   "cell_type": "markdown",
   "id": "1222965a-654a-4bde-8fe1-854b14cf78a0",
   "metadata": {},
   "source": [
    "Similarly to NumPy, values in Pandas `Series` and `DataFrame` can be accessed using various methods, such as indexing (fancy and boolean) and slicing. The syntax is exactly the same as demonstrated in the NumPy lesson."
   ]
  },
  {
   "cell_type": "code",
   "execution_count": 106,
   "id": "86e1ba93-0a31-40da-bdad-65def861766d",
   "metadata": {},
   "outputs": [
    {
     "name": "stdout",
     "output_type": "stream",
     "text": [
      "Printing the first three elements of my series:\n",
      "E    379\n",
      "F    902\n",
      "C    578\n",
      "dtype: int64\n",
      "\n",
      "Printing the last three elements of my series:\n",
      "J    953\n",
      "G    170\n",
      "D    607\n",
      "dtype: int64\n",
      "\n",
      "Printing three selected elements of my series:\n",
      "E    379\n",
      "I     87\n",
      "G    170\n",
      "dtype: int64\n",
      "\n",
      "Printing three selected elements of my series:\n",
      "A    326\n",
      "B    127\n",
      "D    607\n",
      "dtype: int64\n",
      "\n",
      "my_series contains 4 values greater than 500:\n",
      "F    902\n",
      "C    578\n",
      "J    953\n",
      "D    607\n",
      "dtype: int64\n"
     ]
    },
    {
     "name": "stderr",
     "output_type": "stream",
     "text": [
      "/tmp/ipykernel_6857/971194609.py:10: FutureWarning: Series.__getitem__ treating keys as positions is deprecated. In a future version, integer keys will always be treated as labels (consistent with DataFrame behavior). To access a value by position, use `ser.iloc[pos]`\n",
      "  print(f\"\\nPrinting three selected elements of my series:\\n{my_series[[0, 6, 8]]}\")\n"
     ]
    }
   ],
   "source": [
    "# Examples of fancy and boolean indexing and slicing\n",
    "\n",
    "# Printing the first three elements of the series using slicing\n",
    "print(f\"Printing the first three elements of my series:\\n{my_series[:3]}\")\n",
    "\n",
    "# Printing the last three elements of my series using slicing\n",
    "print(f\"\\nPrinting the last three elements of my series:\\n{my_series[-3:]}\")\n",
    "\n",
    "# Printing three selected elements of the series using fancy indexing\n",
    "print(f\"\\nPrinting three selected elements of my series:\\n{my_series[[0, 6, 8]]}\")\n",
    "\n",
    "# Printing three selected elements of the series using label-based fancy indexing\n",
    "print(f\"\\nPrinting three selected elements of my series:\\n{my_series[['A', 'B', 'D']]}\")\n",
    "\n",
    "# Using boolean indexing to filter elements greater than 500\n",
    "print(f\"\\nmy_series contains {(my_series > 500).sum()} values greater than 500:\\n{my_series[my_series > 500]}\")"
   ]
  },
  {
   "cell_type": "markdown",
   "id": "bcec4fad-3c80-4ca8-afbb-ecf51ae86592",
   "metadata": {},
   "source": [
    "Not only is the syntax for indexing and slicing the same as NumPy, but `Series` and `DataFrame` also preserve the same NumPy properties in mathematical operations, such as broadcasting and vectorization. Moreover, Pandas aligns data by label index, allowing mathematical operations with ease."
   ]
  },
  {
   "cell_type": "code",
   "execution_count": 107,
   "id": "3a272e8b-1889-4140-b82a-b9cf424e4c06",
   "metadata": {},
   "outputs": [
    {
     "name": "stdout",
     "output_type": "stream",
     "text": [
      "E     758\n",
      "F    1804\n",
      "C    1156\n",
      "B     254\n",
      "H     366\n",
      "A     652\n",
      "I     174\n",
      "J    1906\n",
      "G     340\n",
      "D    1214\n",
      "dtype: int64 \n",
      "\n",
      "E    378\n",
      "F    901\n",
      "C    577\n",
      "B    126\n",
      "H    182\n",
      "A    325\n",
      "I     86\n",
      "J    952\n",
      "G    169\n",
      "D    606\n",
      "dtype: int64 \n",
      "\n",
      "E    143641\n",
      "F    813604\n",
      "C    334084\n",
      "B     16129\n",
      "H     33489\n",
      "A    106276\n",
      "I      7569\n",
      "J    908209\n",
      "G     28900\n",
      "D    368449\n",
      "dtype: int64 \n",
      "\n"
     ]
    }
   ],
   "source": [
    "# Multiplying each element in the series by 2\n",
    "print(my_series * 2, \"\\n\")\n",
    "\n",
    "# Performing a series of mathematical operations: multiply by 2, subtract the original series, and then subtract 1\n",
    "print(my_series * 2 - my_series - 1,  \"\\n\")\n",
    "\n",
    "# Squaring each element in the series\n",
    "print(my_series ** 2,  \"\\n\")"
   ]
  },
  {
   "cell_type": "code",
   "execution_count": 108,
   "id": "099cf7ee-a37f-4393-ac25-c7b801b4b0a6",
   "metadata": {},
   "outputs": [
    {
     "name": "stdout",
     "output_type": "stream",
     "text": [
      "obj1:\n",
      "cities\n",
      "Milano        98727\n",
      "Novara            0\n",
      "Torino       203601\n",
      "Como         110665\n",
      "Catanzaro    762852\n",
      "Roma         366156\n",
      "Messina      878029\n",
      "Firenze      853350\n",
      "Venezia      682968\n",
      "Name: cities population, dtype: int64\n",
      "\n",
      "obj2:\n",
      "Milano       538.0\n",
      "Novara       986.0\n",
      "Torino       387.0\n",
      "Como           NaN\n",
      "Catanzaro    901.0\n",
      "Roma         165.0\n",
      "Messina      353.0\n",
      "Firenze      227.0\n",
      "Venezia      638.0\n",
      "Name: cities population, dtype: float64\n",
      "\n",
      "obj1 + obj2:\n",
      "cities\n",
      "Milano        99265.0\n",
      "Novara          986.0\n",
      "Torino       203988.0\n",
      "Como              NaN\n",
      "Catanzaro    763753.0\n",
      "Roma         366321.0\n",
      "Messina      878382.0\n",
      "Firenze      853577.0\n",
      "Venezia      683606.0\n",
      "Name: cities population, dtype: float64\n"
     ]
    }
   ],
   "source": [
    "# Defining a list of cities\n",
    "cities = ['Milano', 'Novara', 'Torino', 'Como', 'Catanzaro', 'Roma', 'Messina', 'Firenze', 'Venezia']\n",
    "\n",
    "# Creating a Pandas Series (obj1) with random integer values and the specified index\n",
    "obj1 = pd.Series(np.random.randint(low=10_000, high=1_000_000, size=len(cities)), index=cities)\n",
    "\n",
    "# Creating another Pandas Series (obj2) with different random integer values and the same index\n",
    "obj2 = pd.Series(np.random.randint(low=1, high=1_000, size=len(cities)), index=cities)\n",
    "\n",
    "# Modifying specific values in obj1 and obj2\n",
    "obj1['Novara'] = 0\n",
    "obj2['Como'] = np.nan\n",
    "\n",
    "obj1.name, obj2.name = 'cities population', 'cities population'\n",
    "obj1.index.name, obj1.index.name = 'cities', 'cities'\n",
    "\n",
    "# Displaying obj1, obj2, and the result of their addition\n",
    "print(\"obj1:\")\n",
    "print(obj1)\n",
    "\n",
    "print(\"\\nobj2:\")\n",
    "print(obj2)\n",
    "\n",
    "print(\"\\nobj1 + obj2:\")\n",
    "print(obj1 + obj2)"
   ]
  },
  {
   "cell_type": "markdown",
   "id": "a09b3c20-1f82-4d24-a020-3c5b4d6288d2",
   "metadata": {},
   "source": [
    "It is possible to generate a `Series` from a python list or dictionary and vice versa."
   ]
  },
  {
   "cell_type": "code",
   "execution_count": 109,
   "id": "66f31a19-bb60-4eaa-928d-9a1f7eb78858",
   "metadata": {},
   "outputs": [
    {
     "name": "stdout",
     "output_type": "stream",
     "text": [
      "Python List:\n",
      " [0, 1, 2, 3, 4, 5, 6, 7, 8, 9]\n",
      "\n",
      "Pandas Series:\n",
      " 0    0\n",
      "1    1\n",
      "2    2\n",
      "3    3\n",
      "4    4\n",
      "5    5\n",
      "6    6\n",
      "7    7\n",
      "8    8\n",
      "9    9\n",
      "dtype: int64\n",
      "\n",
      "Python list:\n",
      " [0, 1, 2, 3, 4, 5, 6, 7, 8, 9]\n",
      "\n",
      "Python list:\n",
      " {0: 0, 1: 1, 2: 2, 3: 3, 4: 4, 5: 5, 6: 6, 7: 7, 8: 8, 9: 9}\n",
      "\n",
      "Python List:\n",
      " [0, 1, 2, 3, 4, 5, 6, 7, 8, 9]\n",
      "\n",
      "Pandas Series:\n",
      " Legnano      60118.000\n",
      "Milano     1358420.000\n",
      "Segrate      36961.000\n",
      "Corsico         34.505\n",
      "Name: Comuni nella città metr. di Milano per popolazione, dtype: float64\n"
     ]
    }
   ],
   "source": [
    "# Creating a Python list using the range function\n",
    "my_list = list(range(0, 10))\n",
    "print(\"Python List:\\n\", my_list)\n",
    "\n",
    "# Creating a Pandas Series from the Python list\n",
    "my_series = pd.Series(my_list)\n",
    "print(\"\\nPandas Series:\\n\", my_series)\n",
    "\n",
    "# Converting the Pandas Series back to a Python list\n",
    "_list = my_series.to_list()\n",
    "print(\"\\nPython list:\\n\",_list)\n",
    "\n",
    "# Converting the Pandas Series back to a Python dict\n",
    "_dict = my_series.to_dict()\n",
    "print(\"\\nPython list:\\n\",_dict)\n",
    "\n",
    "# Creating a Python dictionary\n",
    "my_cities_population = {'Legnano': 60_118, 'Milano': 1_358_420, 'Segrate': 36_961, 'Corsico': 34.505}\n",
    "print(\"\\nPython List:\\n\", my_list)\n",
    "\n",
    "# Creating a Pandas Series from the Python list\n",
    "my_series = pd.Series(my_cities_population, name='Comuni nella città metr. di Milano per popolazione')\n",
    "print(\"\\nPandas Series:\\n\", my_series)"
   ]
  },
  {
   "cell_type": "markdown",
   "id": "e669cdb2-ce04-4fa6-9f18-00eb25588aec",
   "metadata": {},
   "source": [
    "`Series` and `DataFrame` may contain *NA* values. The function `pd.isna()` assesses the presence of NA value into `Series` and `DataFrame`"
   ]
  },
  {
   "cell_type": "code",
   "execution_count": 110,
   "id": "749c4cbc-e780-4ff2-94ad-26b109592ccc",
   "metadata": {},
   "outputs": [
    {
     "name": "stdout",
     "output_type": "stream",
     "text": [
      "Does obj1 contain NA?\n",
      " cities\n",
      "Milano       False\n",
      "Novara       False\n",
      "Torino       False\n",
      "Como         False\n",
      "Catanzaro    False\n",
      "Roma         False\n",
      "Messina      False\n",
      "Firenze      False\n",
      "Venezia      False\n",
      "Name: cities population, dtype: bool\n",
      "\n",
      "Does obj2 contain NA?\n",
      " Milano       False\n",
      "Novara       False\n",
      "Torino       False\n",
      "Como          True\n",
      "Catanzaro    False\n",
      "Roma         False\n",
      "Messina      False\n",
      "Firenze      False\n",
      "Venezia      False\n",
      "Name: cities population, dtype: bool\n",
      "\n",
      "Yes, obj2 contains NA at index:\n",
      " ['Como']\n"
     ]
    }
   ],
   "source": [
    "# Checking for missing values in obj1 and printing the result\n",
    "print(\"Does obj1 contain NA?\\n\", obj1.isna())\n",
    "\n",
    "# Checking for missing values in obj2 and printing the result\n",
    "print(\"\\nDoes obj2 contain NA?\\n\", obj2.isna())\n",
    "\n",
    "# Checking if obj2 still contains any missing values after imputation\n",
    "if obj2.isna().sum() > 0:\n",
    "    # Printing a message if obj2 contains missing values\n",
    "    print(\"\\nYes, obj2 contains NA at index:\\n\", list(obj2[obj2.isna()].index))"
   ]
  },
  {
   "cell_type": "markdown",
   "id": "79bcd9e1-cdb2-45e1-9829-1f9fbf580062",
   "metadata": {},
   "source": [
    "## Dataframe\n",
    "\n",
    "A `DataFrame` is a two-dimensional labeled data structure with potentially heterogeneous columns, often used for more complex and structured data. The `DataFrame` has both a row and column index. It is initialized using the function `pd.DataFrame(data, index, columns)`. If you pass a column that isn’t contained in the dictionary, it will appear with missing values."
   ]
  },
  {
   "cell_type": "markdown",
   "id": "490f5a88-5c16-4d87-821e-6a20569031f2",
   "metadata": {},
   "source": [
    "![title](img/axis.png)"
   ]
  },
  {
   "cell_type": "code",
   "execution_count": 111,
   "id": "ee970aa2-55fc-4e2d-ae63-68e5f21ead7b",
   "metadata": {},
   "outputs": [
    {
     "name": "stdout",
     "output_type": "stream",
     "text": [
      "      city     area  population\n",
      "0     Rome  1287.36     2872800\n",
      "1    Milan   181.67     1378689\n",
      "2   Naples   117.27      967069\n",
      "3    Turin   130.17      885265\n",
      "4  Palermo   158.90      678492\n",
      "5    Genoa   240.29      580097\n",
      "6  Bologna   140.86      391374\n"
     ]
    }
   ],
   "source": [
    "# Define a dictionary with data for Italian cities and their populations\n",
    "cities = {\n",
    "    'city': ['Rome', 'Milan', 'Naples', 'Turin', 'Palermo', 'Genoa', 'Bologna'],\n",
    "    'population': [2_872_800, 1_378_689, 967_069, 885_265, 678_492, 580_097, 391_374],\n",
    "    'area': [1287.36, 181.67, 117.27, 130.17, 158.9, 240.29, 140.86]\n",
    "}\n",
    "\n",
    "# Create a pandas DataFrame using the dictionary\n",
    "df = pd.DataFrame(cities, columns = ['city', 'area', 'population'])\n",
    "\n",
    "# Print the DataFrame\n",
    "print(df)"
   ]
  },
  {
   "cell_type": "markdown",
   "id": "9a16a1ce-a4e2-4f55-aebc-36c7d285a9d2",
   "metadata": {},
   "source": [
    "For a large dataset, it can be useful to inspect the first or last rows using the functions `pd.head()` and `pd.tail()`, respectively."
   ]
  },
  {
   "cell_type": "code",
   "execution_count": 112,
   "id": "5d741599-0b69-46c7-98fa-70fa2058386f",
   "metadata": {},
   "outputs": [
    {
     "name": "stdout",
     "output_type": "stream",
     "text": [
      "The first five rows\n",
      "      city     area  population\n",
      "0     Rome  1287.36     2872800\n",
      "1    Milan   181.67     1378689\n",
      "2   Naples   117.27      967069\n",
      "3    Turin   130.17      885265\n",
      "4  Palermo   158.90      678492 \n",
      "\n",
      "The last five rows\n",
      "      city    area  population\n",
      "2   Naples  117.27      967069\n",
      "3    Turin  130.17      885265\n",
      "4  Palermo  158.90      678492\n",
      "5    Genoa  240.29      580097\n",
      "6  Bologna  140.86      391374\n"
     ]
    }
   ],
   "source": [
    "# Inspecting the first five rows\n",
    "print(\"The first five rows\")\n",
    "print(df.head(), '\\n')\n",
    "\n",
    "# Inspecting the last five rows\n",
    "print(\"The last five rows\")\n",
    "print(df.tail())"
   ]
  },
  {
   "cell_type": "markdown",
   "id": "f59b0734-b41c-4a93-8c33-c3f49e8d5213",
   "metadata": {},
   "source": [
    "## reindex\n",
    "\n",
    "An important method on Pandas is `reindex`, which creates a new object with the values rearranged to match the new index."
   ]
  },
  {
   "cell_type": "code",
   "execution_count": 113,
   "id": "2f292147-e8b3-40c0-9c7b-bacd77ff4311",
   "metadata": {},
   "outputs": [
    {
     "name": "stdout",
     "output_type": "stream",
     "text": [
      "   A  B\n",
      "b  0  4\n",
      "c  1  5\n",
      "a  2  6\n",
      "\n",
      "Creating a new DataFrame (df2) by reindexing df with a new index\n",
      "     A    B\n",
      "a  2.0  6.0\n",
      "b  0.0  4.0\n",
      "c  1.0  5.0\n",
      "d  NaN  NaN\n"
     ]
    }
   ],
   "source": [
    "# Creating a DataFrame (df) using pd.DataFrame() constructor\n",
    "# The DataFrame has two columns 'A' and 'B' with values generated using np.arange() function for numeric sequences\n",
    "# The index parameter sets the row labels of the DataFrame\n",
    "df = pd.DataFrame({'A':np.arange(0,3), 'B':np.arange(4,7)}, index= ['b','c','a'])\n",
    "\n",
    "# Printing the DataFrame df to the console\n",
    "print(df)\n",
    "\n",
    "# Creating a new DataFrame (df2) by reindexing df with a new index ['a', 'b', 'c', 'd']\n",
    "# Rows that don't have corresponding labels in the original DataFrame will be filled with NaN (Not a Number)\n",
    "df2 = df.reindex(['a', 'b', 'c', 'd'])\n",
    "\n",
    "# Printing the reindexed DataFrame df2 to the console\n",
    "print(\"\\nCreating a new DataFrame (df2) by reindexing df with a new index\")\n",
    "print(df2)"
   ]
  },
  {
   "cell_type": "markdown",
   "id": "d8652770-ccce-4cb0-a869-87b96c0fb3f0",
   "metadata": {},
   "source": [
    "## Dropping elements from a series or a dataframe\n",
    "\n",
    "In many cases, you may need to drop elements from a series or a dataframe. The `drop` method allows you to delete the entries (index or columns) and retrieve the dataframe with the specified index or column labels removed."
   ]
  },
  {
   "cell_type": "code",
   "execution_count": 114,
   "id": "12db2957-eee4-4ba9-a242-26bb1fad0665",
   "metadata": {},
   "outputs": [
    {
     "name": "stdout",
     "output_type": "stream",
     "text": [
      "                       Capital  Population           GDP\n",
      "Italy                     Rome    58997201  2.090448e+12\n",
      "United States  Washington D.C.   341139019  2.767527e+13 \n",
      "\n",
      "                       Capital\n",
      "Italy                     Rome\n",
      "Japan                    Tokyo\n",
      "United States  Washington D.C.\n",
      "French                   Paris \n",
      "\n",
      "                       Capital  Population\n",
      "Japan                    Tokyo   126226568\n",
      "United States  Washington D.C.   341139019\n",
      "French                   Paris    65554051 \n",
      "\n"
     ]
    }
   ],
   "source": [
    "# Defining column names\n",
    "columns = ['Capital', 'Population', 'GDP']\n",
    "\n",
    "# Creating a dictionary containing data\n",
    "data = {'Italy': ['Rome', 58997201, 2090448e+06], \n",
    "        'Japan': ['Tokyo', 126226568, 4971929e+06], \n",
    "        'United States': ['Washington D.C.', 341139019, 27675271e+06], \n",
    "        'French': ['Paris', 65554051, 2936702e+06]\n",
    "       }\n",
    "\n",
    "# Creating a DataFrame from the dictionary, setting the index to be the keys of the dictionary\n",
    "df = pd.DataFrame.from_dict(data, orient='index', columns=columns)\n",
    "\n",
    "# Dropping rows with index 'Japan' and 'French'\n",
    "new_df = df.drop(['Japan', 'French']) \n",
    "print(new_df,'\\n')\n",
    "\n",
    "# Dropping columns 'Population' and 'GDP'\n",
    "new_df = df.drop(['Population', 'GDP'], axis='columns')\n",
    "print(new_df,'\\n')\n",
    "\n",
    "# Dropping row with index 'Italy' and column 'GDP'\n",
    "new_df = df.drop(index='Italy', columns='GDP')\n",
    "print(new_df,'\\n')"
   ]
  },
  {
   "cell_type": "markdown",
   "id": "d51cb772-af9a-4994-b53a-617e727d60ed",
   "metadata": {},
   "source": [
    "## Indexing, selection and filtering\n",
    "\n",
    "Pandas indexing is a powerful feature that allows you to access and manipulate data within DataFrames and Series efficiently. Here are some key points about pandas indexing:\n",
    "\n",
    "1. **Label-based Indexing**: Pandas primarily uses label-based indexing for accessing data. This means that you can access elements using row and column labels rather than integer positions.\n",
    "\n",
    "2. **Indexing in DataFrames**: In DataFrames, indexing can be applied to both rows and columns. You can use row labels (index) and column labels to access specific data points, slices of rows or columns, or even subsets of the DataFrame.\n",
    "\n",
    "3. **Index Objects**: Indexes in pandas are objects that store the axis labels (row or column labels). These index objects are immutable, meaning they cannot be changed once created. This immutability ensures the integrity of the data structures.\n",
    "\n",
    "4. **Hierarchical Indexing**: Pandas supports hierarchical indexing, also known as multi-level indexing. It allows you to have multiple levels of row or column labels, providing a way to represent higher-dimensional data in a DataFrame.\n",
    "\n",
    "5. **Selection Methods**: Pandas provides various methods for indexing and selecting data, including `loc[]`, `iloc[]`, and `at[]`. \n",
    "   - `loc[]` is used for label-based indexing, allowing you to select data based on row and column labels.\n",
    "   - `iloc[]` is used for positional indexing, allowing you to select data based on integer positions.\n",
    "   - `at[]` is similar to `loc[]` but provides faster access to a single scalar value.\n",
    "\n",
    "6. **Boolean Indexing**: You can use boolean arrays or boolean conditions to filter rows or columns in a DataFrame based on certain criteria. This is often referred to as boolean indexing.\n",
    "\n",
    "7. **Setting and Resetting Index**: You can set or reset the index of a DataFrame using `set_index()` and `reset_index()` methods, respectively. This allows you to change the row labels or move the existing index into a column.\n",
    "\n",
    "Understanding pandas indexing is crucial for efficient data manipulation and analysis, as it provides a flexible and intuitive way to access and modify data in DataFrames and Series."
   ]
  },
  {
   "cell_type": "markdown",
   "id": "e9179a9b-e42c-4c46-9a29-48a143d7ac52",
   "metadata": {},
   "source": [
    "![title](img/indexing_options.png)"
   ]
  },
  {
   "cell_type": "code",
   "execution_count": 115,
   "id": "b111ee16-e49d-4d0a-b5d0-0612ad311a84",
   "metadata": {},
   "outputs": [
    {
     "name": "stdout",
     "output_type": "stream",
     "text": [
      "                       Capital  Population           GDP\n",
      "Italy                     Rome    58997201  2.090448e+12\n",
      "Japan                    Tokyo   126226568  4.971929e+12\n",
      "United States  Washington D.C.   341139019  2.767527e+13\n",
      "France                   Paris    65554051  2.936702e+12\n",
      "Unite Kingdom           London    67596281  3.495261e+12\n",
      "Brazil                Brasília   205375043  2.331391e+12\n",
      "China                  Beijing  1409670000  1.853263e+13\n",
      "India                New Delhi  1428627663  3.937011e+12\n",
      "Germany                 Berlin    84669326  4.591100e+12 \n",
      "\n",
      "Italy              58997201\n",
      "Japan             126226568\n",
      "United States     341139019\n",
      "France             65554051\n",
      "Unite Kingdom      67596281\n",
      "Brazil            205375043\n",
      "China            1409670000\n",
      "India            1428627663\n",
      "Germany            84669326\n",
      "Name: Population, dtype: int64 \n",
      "\n",
      "                       Capital           GDP\n",
      "Italy                     Rome  2.090448e+12\n",
      "Japan                    Tokyo  4.971929e+12\n",
      "United States  Washington D.C.  2.767527e+13\n",
      "France                   Paris  2.936702e+12\n",
      "Unite Kingdom           London  3.495261e+12\n",
      "Brazil                Brasília  2.331391e+12\n",
      "China                  Beijing  1.853263e+13\n",
      "India                New Delhi  3.937011e+12\n",
      "Germany                 Berlin  4.591100e+12 \n",
      "\n",
      "       Capital  Population           GDP\n",
      "Italy     Rome    58997201  2.090448e+12\n",
      "France   Paris    65554051  2.936702e+12 \n",
      "\n",
      "        Population           GDP\n",
      "Italy     58997201  2.090448e+12\n",
      "France    65554051  2.936702e+12 \n",
      "\n",
      "      Capital  Population           GDP\n",
      "Italy    Rome    58997201  2.090448e+12\n",
      "Japan   Tokyo   126226568  4.971929e+12\n"
     ]
    }
   ],
   "source": [
    "# Defining column names\n",
    "columns = ['Capital', 'Population', 'GDP']\n",
    "\n",
    "# Creating a dictionary containing data\n",
    "data = {'Italy': ['Rome', 58997201, 2090448e+06], \n",
    "        'Japan': ['Tokyo', 126226568, 4971929e+06], \n",
    "        'United States': ['Washington D.C.', 341139019, 27675271e+06], \n",
    "        'France': ['Paris', 65554051, 2936702e+06],\n",
    "        'Unite Kingdom': ['London', 67596281, 3495261e+06],\n",
    "        'Brazil': ['Brasília', 205375043, 2331391e+06],\n",
    "        'China': ['Beijing', 1409670000, 18532633e+06],\n",
    "        'India': ['New Delhi', 1428627663, 3937011e+06],\n",
    "        'Germany': ['Berlin', 84669326, 4591100e+06],\n",
    "       }\n",
    "\n",
    "# Creating a DataFrame from the dictionary, setting the index to be the keys of the dictionary\n",
    "df = pd.DataFrame.from_dict(data, orient='index', columns=columns)\n",
    "print(df, '\\n')\n",
    "\n",
    "# Selecting the 'Population' column\n",
    "print(df['Population'], '\\n')\n",
    "\n",
    "# Selecting the 'GDP' and 'Capital' columns\n",
    "print(df[['Capital','GDP']], '\\n')\n",
    "\n",
    "# Selecting the 'Italy' and 'French' rows\n",
    "print(df.loc[['Italy', 'France']], '\\n')\n",
    "\n",
    "# Selecting the population and GDP of 'Italy' and 'French'\n",
    "print(df.loc[['Italy', 'France'],['Population', 'GDP']], '\\n')\n",
    "\n",
    "# Selecting the first two rows\n",
    "print(df.iloc[:2])"
   ]
  },
  {
   "cell_type": "markdown",
   "id": "a256994d-85b1-464b-9b36-765797e3486e",
   "metadata": {},
   "source": [
    "`loc` and `iloc` are both indexing methods in pandas, but they have different use cases and behaviors:\n",
    "\n",
    "1. **`loc`**:\n",
    "   - `loc` is primarily label-based indexing, meaning it selects data based on row and column labels.\n",
    "   - It is used to access a group of rows and columns by label(s) or a boolean array.\n",
    "   - With `loc`, you specify row and column labels explicitly.\n",
    "   - The syntax for `loc` is `df.loc[row_label, column_label]`.\n",
    "   - It is inclusive for both the start and stop labels when slicing.\n",
    "   - `loc` is useful when you know the label(s) of the rows and columns you want to select.\n",
    "\n",
    "2. **`iloc`**:\n",
    "   - `iloc` is positional indexing, meaning it selects data based on integer positions.\n",
    "   - It is used to access a group of rows and columns by integer positions.\n",
    "   - With `iloc`, you specify row and column positions explicitly, similar to array indexing in Python.\n",
    "   - The syntax for `iloc` is `df.iloc[row_position, column_position]`.\n",
    "   - It is exclusive for the stop position when slicing, following Python's convention.\n",
    "   - `iloc` is useful when you want to select data by integer position, regardless of the row and column labels."
   ]
  },
  {
   "cell_type": "code",
   "execution_count": 116,
   "id": "e60dae9b-51cc-4220-8c66-e678e5629293",
   "metadata": {},
   "outputs": [
    {
     "name": "stdout",
     "output_type": "stream",
     "text": [
      "Japan            4.971929e+12\n",
      "United States    2.767527e+13\n",
      "France           2.936702e+12\n",
      "Unite Kingdom    3.495261e+12\n",
      "Brazil           2.331391e+12\n",
      "China            1.853263e+13\n",
      "India            3.937011e+12\n",
      "Germany          4.591100e+12\n",
      "Name: GDP, dtype: float64\n"
     ]
    }
   ],
   "source": [
    "# Selecting 'GDP' of countries with more than 60e+06 population\n",
    "print(df[df.Population > 60e+06]['GDP'])"
   ]
  },
  {
   "cell_type": "markdown",
   "id": "63bce39c-b5a6-4277-bc50-1a89942b3d67",
   "metadata": {},
   "source": [
    "The provided code snippet selects the 'GDP' of countries with a population greater than 60 million using boolean indexing. \n",
    "\n",
    "- `df.Population > 60e+06`: This creates a boolean mask where each element in the 'Population' column of the DataFrame `df` is compared to 60 million. It returns `True` for countries with a population greater than 60 million and `False` otherwise.\n",
    "- `df[df.Population > 60e+06]`: This uses boolean indexing to filter the rows of the DataFrame `df` where the condition (population greater than 60 million) is `True`. It selects only the rows that meet the condition.\n",
    "- `['GDP']`: This selects the 'GDP' column from the filtered DataFrame, resulting in a Series containing the GDP values of countries with a population greater than 60 million."
   ]
  },
  {
   "cell_type": "markdown",
   "id": "cae4ab7d-a442-423b-b959-46315471aff9",
   "metadata": {},
   "source": [
    "## Sorting\n",
    "\n",
    "Sorting rows or columns of a dataset by some criterion is another important built-in operation. \n",
    "\n",
    "The method `sort_index` returns a new sorted object that matches the given criteria. In contrast, the method `sort_values` sorts the object by its own values. "
   ]
  },
  {
   "cell_type": "code",
   "execution_count": 117,
   "id": "d453bfb7-9713-4b6d-8d34-15ce2c39b787",
   "metadata": {},
   "outputs": [
    {
     "name": "stdout",
     "output_type": "stream",
     "text": [
      "                       Capital  Population           GDP\n",
      "Italy                     Rome    58997201  2.090448e+12\n",
      "Japan                    Tokyo   126226568  4.971929e+12\n",
      "United States  Washington D.C.   341139019  2.767527e+13\n",
      "France                   Paris    65554051  2.936702e+12\n",
      "Unite Kingdom           London    67596281  3.495261e+12\n",
      "Brazil                Brasília   205375043  2.331391e+12\n",
      "China                  Beijing  1409670000  1.853263e+13\n",
      "India                New Delhi  1428627663  3.937011e+12\n",
      "Germany                 Berlin    84669326  4.591100e+12\n"
     ]
    }
   ],
   "source": [
    "print(df)"
   ]
  },
  {
   "cell_type": "code",
   "execution_count": 118,
   "id": "ae51d4f3-1a0b-48cf-86ab-68ed0abe5074",
   "metadata": {},
   "outputs": [
    {
     "name": "stdout",
     "output_type": "stream",
     "text": [
      "                       Capital  Population           GDP\n",
      "Brazil                Brasília   205375043  2.331391e+12\n",
      "China                  Beijing  1409670000  1.853263e+13\n",
      "France                   Paris    65554051  2.936702e+12\n",
      "Germany                 Berlin    84669326  4.591100e+12\n",
      "India                New Delhi  1428627663  3.937011e+12\n",
      "Italy                     Rome    58997201  2.090448e+12\n",
      "Japan                    Tokyo   126226568  4.971929e+12\n",
      "Unite Kingdom           London    67596281  3.495261e+12\n",
      "United States  Washington D.C.   341139019  2.767527e+13\n"
     ]
    }
   ],
   "source": [
    "sorted_df_by_row = df.sort_index(axis=0)\n",
    "\n",
    "# Sorted dataframe by index (axis=0)\n",
    "print(sorted_df_by_row)"
   ]
  },
  {
   "cell_type": "code",
   "execution_count": 119,
   "id": "99aff9a0-0889-45b4-aff7-26ddb43e0f73",
   "metadata": {},
   "outputs": [
    {
     "name": "stdout",
     "output_type": "stream",
     "text": [
      "                       Capital           GDP  Population\n",
      "Italy                     Rome  2.090448e+12    58997201\n",
      "Japan                    Tokyo  4.971929e+12   126226568\n",
      "United States  Washington D.C.  2.767527e+13   341139019\n",
      "France                   Paris  2.936702e+12    65554051\n",
      "Unite Kingdom           London  3.495261e+12    67596281\n",
      "Brazil                Brasília  2.331391e+12   205375043\n",
      "China                  Beijing  1.853263e+13  1409670000\n",
      "India                New Delhi  3.937011e+12  1428627663\n",
      "Germany                 Berlin  4.591100e+12    84669326\n"
     ]
    }
   ],
   "source": [
    "sorted_df_by_col = df.sort_index(axis=1)\n",
    "\n",
    "# Sorted dataframe by column (axis=1)\n",
    "print(sorted_df_by_col)"
   ]
  },
  {
   "cell_type": "code",
   "execution_count": 120,
   "id": "697fe697-d83b-4717-99d0-979b5780fc30",
   "metadata": {},
   "outputs": [
    {
     "name": "stdout",
     "output_type": "stream",
     "text": [
      "Italy            2.090448e+12\n",
      "Brazil           2.331391e+12\n",
      "France           2.936702e+12\n",
      "Unite Kingdom    3.495261e+12\n",
      "India            3.937011e+12\n",
      "Germany          4.591100e+12\n",
      "Japan            4.971929e+12\n",
      "China            1.853263e+13\n",
      "United States    2.767527e+13\n",
      "Name: GDP, dtype: float64\n",
      "                       Capital  Population           GDP\n",
      "Italy                     Rome    58997201  2.090448e+12\n",
      "Brazil                Brasília   205375043  2.331391e+12\n",
      "France                   Paris    65554051  2.936702e+12\n",
      "Unite Kingdom           London    67596281  3.495261e+12\n",
      "India                New Delhi  1428627663  3.937011e+12\n",
      "Germany                 Berlin    84669326  4.591100e+12\n",
      "Japan                    Tokyo   126226568  4.971929e+12\n",
      "China                  Beijing  1409670000  1.853263e+13\n",
      "United States  Washington D.C.   341139019  2.767527e+13\n"
     ]
    }
   ],
   "source": [
    "sorted_df_by_values = df['GDP'].sort_values()\n",
    "\n",
    "# Sorted the 'GDP' series by its own value\n",
    "print(sorted_df_by_values)\n",
    "\n",
    "# To sort the entire dataframe and not only the series\n",
    "sorted_df_by_values = df.sort_values('GDP')\n",
    "print(sorted_df_by_values)"
   ]
  },
  {
   "cell_type": "code",
   "execution_count": 121,
   "id": "7da104f1-a5b7-4e77-84a0-25ecdff4feac",
   "metadata": {},
   "outputs": [
    {
     "name": "stdout",
     "output_type": "stream",
     "text": [
      "                       Capital  Population           GDP\n",
      "India                New Delhi  1428627663  3.937011e+12\n",
      "China                  Beijing  1409670000  1.853263e+13\n",
      "United States  Washington D.C.   341139019  2.767527e+13\n",
      "Brazil                Brasília   205375043  2.331391e+12\n",
      "Japan                    Tokyo   126226568  4.971929e+12\n",
      "Germany                 Berlin    84669326  4.591100e+12\n",
      "Unite Kingdom           London    67596281  3.495261e+12\n",
      "France                   Paris    65554051  2.936702e+12\n",
      "Italy                     Rome    58997201  2.090448e+12\n"
     ]
    }
   ],
   "source": [
    "# To sort for multiple values\n",
    "\n",
    "sorted_df_by_values = df.sort_values(['Population', 'GDP'], ascending=False)\n",
    "print(sorted_df_by_values)"
   ]
  }
 ],
 "metadata": {
  "kernelspec": {
   "display_name": "Python 3 (ipykernel)",
   "language": "python",
   "name": "python3"
  },
  "language_info": {
   "codemirror_mode": {
    "name": "ipython",
    "version": 3
   },
   "file_extension": ".py",
   "mimetype": "text/x-python",
   "name": "python",
   "nbconvert_exporter": "python",
   "pygments_lexer": "ipython3",
   "version": "3.10.12"
  }
 },
 "nbformat": 4,
 "nbformat_minor": 5
}
