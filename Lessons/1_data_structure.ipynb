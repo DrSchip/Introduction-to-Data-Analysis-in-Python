{
 "cells": [
  {
   "cell_type": "markdown",
   "id": "7c1930a4-e064-4812-98c4-1b9421042efa",
   "metadata": {},
   "source": [
    "# Tuple"
   ]
  },
  {
   "cell_type": "markdown",
   "id": "fe954154-5528-46d4-8f1b-7c576de79afe",
   "metadata": {},
   "source": [
    "A tuple is a fixed-length, immutable sequence of objects which, once assigned, cannot be changed."
   ]
  },
  {
   "cell_type": "code",
   "execution_count": 1,
   "id": "0dc64c2e-63f9-4e08-9832-eb9efbeed174",
   "metadata": {},
   "outputs": [
    {
     "name": "stdout",
     "output_type": "stream",
     "text": [
      "(1, 2, 'a')\n"
     ]
    }
   ],
   "source": [
    "my_tup = (1,2,'a')\n",
    "print(my_tup)"
   ]
  },
  {
   "cell_type": "markdown",
   "id": "343254dc-e04e-4b1b-af6e-37ac4895b130",
   "metadata": {},
   "source": [
    "In Python, you can convert any sequence or iterator to a tuple by invoking the `tuple()` constructor. The `tuple()` function takes an iterable (like a list, string, or any other iterable object) and returns a tuple containing the elements of that iterable."
   ]
  },
  {
   "cell_type": "code",
   "execution_count": 3,
   "id": "f1518b1a-4fbf-4375-bf71-8d3129849b1d",
   "metadata": {},
   "outputs": [
    {
     "name": "stdout",
     "output_type": "stream",
     "text": [
      "(1, 2, 3, 4, 5)\n",
      "('h', 'e', 'l', 'l', 'o')\n"
     ]
    }
   ],
   "source": [
    "# Converting a list to a tuple\n",
    "my_list = [1, 2, 3, 4, 5]\n",
    "my_tuple = tuple(my_list)\n",
    "print(my_tuple)\n",
    "\n",
    "# Converting a string to a tuple\n",
    "my_string = \"hello\"\n",
    "string_tuple = tuple(my_string)\n",
    "print(string_tuple)"
   ]
  },
  {
   "cell_type": "markdown",
   "id": "d39141ef-87d8-4746-97ab-f1cb53b69f28",
   "metadata": {},
   "source": [
    "You can create a nested tuple by having tuples as elements inside another tuple."
   ]
  },
  {
   "cell_type": "code",
   "execution_count": 2,
   "id": "9cbae51a-8aea-4262-a177-504f2076f28a",
   "metadata": {},
   "outputs": [
    {
     "name": "stdout",
     "output_type": "stream",
     "text": [
      "(1, 2, 3)\n",
      "c\n",
      "True\n"
     ]
    }
   ],
   "source": [
    "# Creating a nested tuple\n",
    "nested_tuple = ((1, 2, 3), ('a', 'b', 'c'), (True, False))\n",
    "\n",
    "# Accessing elements in the nested tuple\n",
    "print(nested_tuple[0])  # Output: (1, 2, 3)\n",
    "print(nested_tuple[1][2])  # Output: 'c'\n",
    "print(nested_tuple[2][0])  # Output: True"
   ]
  },
  {
   "cell_type": "markdown",
   "id": "3a8555be-9ad2-440e-9e4c-4214b6c5a50c",
   "metadata": {},
   "source": [
    "In Python, a tuple is an immutable data type, meaning once it is created, you cannot modify its elements, add new elements, or remove existing elements. However, if an object inside a tuple is mutable, such as a list or dictionary, you can modify the content of that mutable object in place."
   ]
  },
  {
   "cell_type": "code",
   "execution_count": 9,
   "id": "0b919357-edde-4882-a4d5-053790334b20",
   "metadata": {},
   "outputs": [
    {
     "name": "stdout",
     "output_type": "stream",
     "text": [
      "(1, 2, [300, 4, 5, 'add an element inside my tuple'])\n"
     ]
    }
   ],
   "source": [
    "# Creating a tuple with a mutable list\n",
    "immutable_tuple = (1, 2, [3, 4, 5])\n",
    "\n",
    "# Attempting to modify the tuple itself will result in an error\n",
    "# immutable_tuple[0] = 100  # This will raise a TypeError\n",
    "\n",
    "# However, we can modify the mutable list inside the tuple\n",
    "immutable_tuple[2][0] = 300\n",
    "immutable_tuple[2].append('add an element inside my tuple')\n",
    "print(immutable_tuple)  # Output: (1, 2, [300, 4, 5])"
   ]
  },
  {
   "cell_type": "markdown",
   "id": "88089341-d612-457b-9d89-ca4fd3d4f98c",
   "metadata": {},
   "source": [
    "To concatenate two tuples, you can use the `+` operator."
   ]
  },
  {
   "cell_type": "code",
   "execution_count": 11,
   "id": "21db1615-c9e6-47e8-9321-d3b278a7a233",
   "metadata": {},
   "outputs": [
    {
     "name": "stdout",
     "output_type": "stream",
     "text": [
      "(1, 2, 3, 'a', 'b', 'c')\n"
     ]
    }
   ],
   "source": [
    "# Define two tuples\n",
    "tuple1 = (1, 2, 3)\n",
    "tuple2 = ('a', 'b', 'c')\n",
    "\n",
    "# Concatenate the tuples\n",
    "concatenated_tuple = tuple1 + tuple2\n",
    "\n",
    "# Display the result\n",
    "print(concatenated_tuple)"
   ]
  },
  {
   "cell_type": "markdown",
   "id": "7317d2cd-76de-404e-8dc7-2d8ca6de594a",
   "metadata": {},
   "source": [
    "Multiplying a tuple involves repeating its elements a certain number of times. You can use the `*` operator for this purpose."
   ]
  },
  {
   "cell_type": "code",
   "execution_count": 12,
   "id": "3369e5d5-36eb-4b3b-be84-b730996a8937",
   "metadata": {},
   "outputs": [
    {
     "name": "stdout",
     "output_type": "stream",
     "text": [
      "(1, 2, 3, 1, 2, 3, 1, 2, 3)\n"
     ]
    }
   ],
   "source": [
    "# Define a tuple\n",
    "my_tuple = (1, 2, 3)\n",
    "\n",
    "# Multiply the tuple\n",
    "multiplied_tuple = my_tuple * 3  # Repeat the elements three times\n",
    "\n",
    "# Display the result\n",
    "print(multiplied_tuple)"
   ]
  },
  {
   "cell_type": "markdown",
   "id": "89122458-22f4-4fd3-8241-62d14f70ed6f",
   "metadata": {},
   "source": [
    "Tuple unpacking allows you to assign the elements of a tuple to multiple variables in a single line. "
   ]
  },
  {
   "cell_type": "code",
   "execution_count": 16,
   "id": "0068dda4-105d-4bb1-8a29-bdb12152560a",
   "metadata": {},
   "outputs": [
    {
     "name": "stdout",
     "output_type": "stream",
     "text": [
      "a: 1\n",
      "b: 2\n",
      "c: 3\n",
      "d: lorem ipsum dolor\n"
     ]
    }
   ],
   "source": [
    "# Define a tuple\n",
    "my_tuple = (1, 2, 3, 'lorem ipsum dolor')\n",
    "\n",
    "# Unpack the tuple\n",
    "a, b, c, d = my_tuple\n",
    "\n",
    "# Display the unpacked values\n",
    "print(\"a:\", a)\n",
    "print(\"b:\", b)\n",
    "print(\"c:\", c)\n",
    "print(\"d:\", d)"
   ]
  },
  {
   "cell_type": "markdown",
   "id": "bd6ff219-a13f-405e-815d-4d2e3ee49c87",
   "metadata": {},
   "source": [
    "In some situations, we're interested only in the first elements of the tuple, disregarding the remaining elements. In this case, we can use the special operator `*`."
   ]
  },
  {
   "cell_type": "code",
   "execution_count": 17,
   "id": "3b92b463-915b-435d-8aed-691b2d2dc1c1",
   "metadata": {},
   "outputs": [
    {
     "name": "stdout",
     "output_type": "stream",
     "text": [
      "first: 1\n",
      "second: 2\n",
      "rest: [3, 4, 5]\n"
     ]
    }
   ],
   "source": [
    "# Define a tuple with multiple elements\n",
    "my_tuple = (1, 2, 3, 4, 5)\n",
    "\n",
    "# Unpack the first two elements and collect the rest into a list\n",
    "first, second, *rest = my_tuple\n",
    "\n",
    "# Display the unpacked values\n",
    "print(\"first:\", first)\n",
    "print(\"second:\", second)\n",
    "print(\"rest:\", rest)"
   ]
  },
  {
   "cell_type": "markdown",
   "id": "db890e56-55fd-4f55-9f4e-624e178f360c",
   "metadata": {},
   "source": [
    "In this example, the `*rest` syntax is used to collect the remaining elements of the tuple `my_tuple` into a list called `rest`. This allows you to capture a flexible number of elements after unpacking the first few. The values of `first` and `second` are assigned the first two elements of the tuple, while the remaining elements are collected in the list `rest`. Using an underscore (`_`) as a variable name is a convention to indicate that the variable is intentionally unused or unimportant. It's a way to signal to other programmers (and tools like linters) that the value of this variable is not going to be used, even though it needs to be assigned to something."
   ]
  },
  {
   "cell_type": "markdown",
   "id": "777368c3-80f0-411d-9e6d-0093f0015c3b",
   "metadata": {},
   "source": [
    "# List"
   ]
  },
  {
   "cell_type": "markdown",
   "id": "e8e348e5-47a4-40ad-a6a5-ab7ebe78100a",
   "metadata": {},
   "source": [
    "A list is a versatile and mutable data type used to store a collection of items. Lists are defined by square brackets `[]` and can contain elements of different data types, including numbers, strings, or even other lists. Here are key characteristics and features of lists in Python:\n",
    "\n",
    "1. **Mutable**: Lists are mutable, meaning you can modify, add, or remove elements after the list is created. This is in contrast to tuples, which are immutable.\n",
    "\n",
    "2. **Ordered**: Lists maintain the order of elements, which means the elements are stored in the order in which they are added.\n",
    "\n",
    "3. **Dynamic**: Lists can dynamically grow or shrink in size. You can add elements using `append()` or `extend()` methods, and remove elements using methods like `pop()` or `remove()`.\n",
    "\n",
    "4. **Heterogeneous Elements**: A list can contain elements of different data types. For example, you can have integers, strings, and even other lists within the same list.\n",
    "\n",
    "5. **Indexing and Slicing**: Elements in a list are accessed using zero-based indexing. You can also use slicing to extract portions of a list.\n",
    "\n",
    "Lists are a fundamental and powerful data structure in Python, widely used for various purposes such as storing collections of items, managing sequences, and representing dynamic sets of data."
   ]
  },
  {
   "cell_type": "code",
   "execution_count": 18,
   "id": "01e6041e-4811-4e1f-af81-eae783d79938",
   "metadata": {},
   "outputs": [
    {
     "name": "stdout",
     "output_type": "stream",
     "text": [
      "1\n",
      "hello\n",
      "[1, 'world', 'hello', 3.14, [4, 5]]\n",
      "[1, 'world', 'hello', 3.14, [4, 5], 6]\n",
      "[1, 'world', 3.14, [4, 5], 6]\n"
     ]
    }
   ],
   "source": [
    "# Creating a list\n",
    "my_list = [1, 2, 'hello', 3.14, [4, 5]]\n",
    "\n",
    "# Accessing elements\n",
    "print(my_list[0])        # Output: 1\n",
    "print(my_list[2])        # Output: 'hello'\n",
    "\n",
    "# Modifying elements\n",
    "my_list[1] = 'world'\n",
    "print(my_list)           # Output: [1, 'world', 'hello', 3.14, [4, 5]]\n",
    "\n",
    "# Adding elements\n",
    "my_list.append(6)\n",
    "print(my_list)           # Output: [1, 'world', 'hello', 3.14, [4, 5], 6]\n",
    "\n",
    "# Removing elements\n",
    "my_list.remove('hello')\n",
    "print(my_list)           # Output: [1, 'world', 3.14, [4, 5], 6]"
   ]
  },
  {
   "cell_type": "markdown",
   "id": "a87e776e-f116-4f44-a118-80bd364063f7",
   "metadata": {},
   "source": [
    "To add and remove elements in a Python list, you can use various methods. Here's a brief explanation of the commonly used methods:\n",
    "- **Adding elements**:\n",
    "    - `Append`: to add an element at the end of a list, you can use the append() method. It adds the specified element as a single item.\n",
    "    - `Extend`: if you want to add multiple elements to the end of a list, you can use the extend() method. It takes an iterable (e.g., another list) and adds each element individually.\n",
    "    - `Insert`: to add an element at a specific position in a list, you can use the insert() method. It takes two arguments: the index at which to insert the element and the element itself.\n",
    "- **Removing elements**:\n",
    "    -  `Remove`: the remove() method is used to remove the first occurrence of a specified element from a list. If the element is not found, it raises a ValueError.\n",
    "    -  `Pop`: to remove an element at a specific index from a list and return its value, you can use the pop() method. If no index is provided, it removes and returns the last element of the list.\n",
    "    -  `Del`: the del statement can be used to remove one or more elements from a list by specifying their indices. It can also be used to delete the entire list."
   ]
  },
  {
   "cell_type": "code",
   "execution_count": 4,
   "id": "032e8a4d-5dd2-4e04-85b1-93e9b4d48217",
   "metadata": {},
   "outputs": [
    {
     "name": "stdout",
     "output_type": "stream",
     "text": [
      "[1, 2, 3, 4]\n",
      "[1, 2, 3, 4, 5, 6]\n",
      "[1, 4, 2, 3, 4, 5, 6]\n",
      "[1, 4, 3, 4, 5, 6]\n",
      "[1, 3, 4, 5, 6]\n",
      "4\n",
      "[1, 3, 5, 6]\n",
      "[1, 6]\n"
     ]
    }
   ],
   "source": [
    "my_list = [1, 2, 3]\n",
    "\n",
    "# Append\n",
    "my_list.append(4)\n",
    "print(my_list)  # Output: [1, 2, 3, 4]\n",
    "\n",
    "# Extend\n",
    "my_list.extend([5, 6])\n",
    "print(my_list)  # Output: [1, 2, 3, 4, 5, 6]\n",
    "\n",
    "# Insert\n",
    "my_list.insert(1, 4)\n",
    "print(my_list)  # Output: [1, 4, 2, 3, 4, 5, 6]\n",
    "\n",
    "# Remove \n",
    "my_list.remove(2)\n",
    "print(my_list)  # Output: [1, 4, 3, 4, 5, 6]\n",
    "\n",
    "# Pop \n",
    "removed_element = my_list.pop(1)\n",
    "print(my_list)         # Output: [1, 3, 4, 5, 6]\n",
    "print(removed_element) # Output: 4\n",
    "\n",
    "# Del \n",
    "del my_list[2]\n",
    "print(my_list)  # Output: [1, 3, 5, 6]\n",
    "del my_list[1:3]\n",
    "print(my_list)  # Output: [1, 6]"
   ]
  },
  {
   "cell_type": "markdown",
   "id": "26d27309-94a5-460b-8638-71e2cd8d6730",
   "metadata": {},
   "source": [
    "## Sorting"
   ]
  },
  {
   "cell_type": "markdown",
   "id": "e94c73ef-6bd6-465a-913b-c5fef6d73c49",
   "metadata": {},
   "source": [
    "To sort a list in Python, you can use the built-in `sort()` method or the `sorted()` function.\n",
    "\n",
    "- The `sort()` method modifies the original list in-place, meaning it rearranges the elements directly within the list. It sorts the list in ascending order by default.\n",
    "- The `sorted()` function creates a new sorted list, leaving the original list unchanged. It returns the sorted list. It can sort the list in ascending or descending order, depending on the optional reverse parameter."
   ]
  },
  {
   "cell_type": "markdown",
   "id": "8ef6b37e-b0e1-46fe-83a9-33e43ebba4ce",
   "metadata": {},
   "source": [
    "## Slicing"
   ]
  },
  {
   "cell_type": "markdown",
   "id": "28c956c4-3af9-4365-b564-2b185084e435",
   "metadata": {},
   "source": [
    "To slice a list in Python, you can specify the start and end indices of the desired portion of the list within square brackets. The general syntax for slicing a list is as follows:\n",
    "\n",
    "```python\n",
    "new_list = original_list[start:end]\n",
    "```\n",
    "\n",
    "`start` is the index where the `slice` starts (inclusive) and `end` is the index where the slice ends (exclusive). If you omit the `start` index, the slice will start from the beginning of the list. If you omit the `end` index, the slice will go until the end of the list. It's also possible to use negative indices for slicing, where -1 refers to the last element of the list, -2 to the second last, and so on."
   ]
  },
  {
   "cell_type": "code",
   "execution_count": 6,
   "id": "c695c058-b80b-4df1-b7d2-9acca23eeb27",
   "metadata": {},
   "outputs": [
    {
     "name": "stdout",
     "output_type": "stream",
     "text": [
      "[1, 2, 3]\n",
      "[2, 3, 4]\n",
      "[3, 4, 5]\n",
      "[3, 4]\n",
      "[1, 2, 3]\n"
     ]
    }
   ],
   "source": [
    "my_list = [1, 2, 3, 4, 5]\n",
    "\n",
    "# Retrieves the first three items of the list\n",
    "print(my_list[:3])  # Output: [1, 2, 3]\n",
    "\n",
    "# Retrieves items from index 1 up to (but not including) index 4\n",
    "print(my_list[1:4])  # Output: [2, 3, 4]\n",
    "\n",
    "# Retrieves items from the index 2 till the end of the list\n",
    "print(my_list[2:])  # Output: [3, 4, 5]\n",
    "\n",
    "# Retrieves items from the third-last (inclusive) up to the last item (exclusive)\n",
    "print(my_list[-3:-1])  # Output: [3, 4]\n",
    "\n",
    "# Retrieves items from the beginning up to (but not including) the last two items\n",
    "print(my_list[:-2])"
   ]
  },
  {
   "cell_type": "markdown",
   "id": "1957c62c-1f1f-4d23-844c-936fa82de588",
   "metadata": {},
   "source": [
    "# Dictionary"
   ]
  },
  {
   "cell_type": "markdown",
   "id": "3f04c899-7ff2-4b8e-b450-3e44f82b4adc",
   "metadata": {},
   "source": [
    "A dictionary in Python is an unordered collection of key-value pairs. It is represented by curly braces {} and each key-value pair is separated by a colon (:). Dictionaries are also known as associative arrays or hash maps in other programming languages.\n",
    "\n",
    "The keys in a dictionary must be unique and immutable, such as strings, numbers, or tuples. On the other hand, the values can be of any data type and can be repeated.\n",
    "\n",
    "Dictionaries are widely used in Python because they provide an efficient way to store and retrieve data. By using a key, we can easily access the corresponding value in the dictionary, which makes it a powerful data structure for mapping and indexing.\n",
    "\n",
    "```python\n",
    "my_dict = {\"name\": \"John\", \"age\": 25, \"city\": \"New York\"}\n",
    "```\n",
    "In this example, \"name\", \"age\", and \"city\" are the keys, and \"John\", 25, and \"New York\" are the corresponding values. We can access the values by using their respective keys, like my_dict[\"name\"], which will return \"John\".\n",
    "\n",
    "Dictionaries also provide methods to add, remove, or modify key-value pairs, as well as perform various operations like looping through the keys or values, checking if a key exists, or finding the length of the dictionary.\n",
    "\n",
    "Overall, dictionaries are a versatile and powerful data structure in Python, suitable for storing and manipulating data in a key-value format.\n"
   ]
  },
  {
   "cell_type": "code",
   "execution_count": 13,
   "id": "36423468-8a93-44ae-aefb-7fe15aac24be",
   "metadata": {},
   "outputs": [
    {
     "name": "stdout",
     "output_type": "stream",
     "text": [
      "John\n",
      "30\n",
      "New York\n",
      "{'name': 'John', 'age': 30, 'city': 'New York', 'occupation': 'Engineer'}\n",
      "{'name': 'John', 'age': 32, 'city': 'New York', 'occupation': 'Engineer'}\n",
      "name\n",
      "age\n",
      "city\n",
      "occupation\n",
      "John\n",
      "32\n",
      "New York\n",
      "Engineer\n",
      "name John\n",
      "age 32\n",
      "city New York\n",
      "occupation Engineer\n"
     ]
    }
   ],
   "source": [
    "# Creating a dictionary\n",
    "person = {\n",
    "    'name': 'John',\n",
    "    'age': 30,\n",
    "    'city': 'New York'\n",
    "}\n",
    "\n",
    "# Accessing dictionary values\n",
    "print(person['name'])  # Output: John\n",
    "print(person['age'])   # Output: 30\n",
    "print(person['city'])  # Output: New York\n",
    "\n",
    "# Adding a new key-value pair\n",
    "person['occupation'] = 'Engineer'\n",
    "print(person)  # Output: {'name': 'John', 'age': 30, 'city': 'New York', 'occupation': 'Engineer'}\n",
    "\n",
    "# Updating a value\n",
    "person['age'] = 32\n",
    "print(person)  # Output: {'name': 'John', 'age': 32, 'city': 'New York', 'occupation': 'Engineer'}\n",
    "\n",
    "# Iterating over dictionary keys\n",
    "for key in person:\n",
    "    print(key)  # Output: name, age, city, occupation\n",
    "\n",
    "# Iterating over dictionary values\n",
    "for value in person.values():\n",
    "    print(value)  # Output: John, 32, New York, Engineer\n",
    "\n",
    "# Iterating over dictionary key-value pairs\n",
    "for key, value in person.items():\n",
    "    print(key, value)  # Output: name John, age 32, city New York, occupation Engineer"
   ]
  },
  {
   "cell_type": "markdown",
   "id": "4aa49eda-a5c4-4525-90fe-9ec955e7b1e1",
   "metadata": {},
   "source": [
    "## Useful built-in functions for dictionaries:"
   ]
  },
  {
   "cell_type": "markdown",
   "id": "90dffdf9-e606-4fae-a6e4-4678b8c47b79",
   "metadata": {},
   "source": [
    "- `len()`: Returns the number of key-value pairs in the dictionary.\n",
    "- `dict.keys()`: Returns a list of all the keys in the dictionary.\n",
    "- `dict.values()`: Returns a list of all the values in the dictionary.\n",
    "- `dict.items()`: Returns a list of tuples, where each tuple contains a key-value pair from the dictionary.\n",
    "- `dict.get(key)`: Returns the value associated with the given key. If the key doesn't exist, it returns None (or a default value if provided).\n",
    "- `dict.pop(key)`: Removes the key-value pair with the specified key from the dictionary and returns the corresponding value.\n",
    "- `dict.clear()`: Removes all key-value pairs from the dictionary.\n",
    "- `dict.update()`: Update a dictionary with the key-value pairs from another dictionary."
   ]
  },
  {
   "cell_type": "code",
   "execution_count": 17,
   "id": "ced6c11c-ab3d-45fa-bf04-e515ac5422f9",
   "metadata": {},
   "outputs": [
    {
     "name": "stdout",
     "output_type": "stream",
     "text": [
      "{'Name': 'Mario', 'Surname': 'Rossi', 'Age': 30, 'Sex': 'male'}\n"
     ]
    }
   ],
   "source": [
    "# Create a dictionary with initial key-value pairs\n",
    "my_dict = {'Name': 'Mario', 'Surname': 'Rossi'}\n",
    "\n",
    "# Use the update method to add new key-value pairs\n",
    "my_dict.update({'Age': 30, 'Sex': 'male'})\n",
    "\n",
    "# Print the updated dictionary\n",
    "print(my_dict)"
   ]
  },
  {
   "cell_type": "markdown",
   "id": "9d68814b-44c8-4635-b12b-9aaf1e5c535e",
   "metadata": {},
   "source": [
    "# Set"
   ]
  },
  {
   "cell_type": "markdown",
   "id": "3a7f5f87-4645-4ace-a83b-649fd4635fc0",
   "metadata": {},
   "source": [
    "Sets in Python are a collection of unique elements, represented by curly braces `{ }`. They are unordered and mutable, which means that their elements can be modified after creation. Sets do not allow duplicate values, and they automatically remove any duplicates when an element is added to the set. Sets are commonly used for mathematical operations such as union, intersection, and difference. They also support various set operations like adding elements, removing elements, checking membership, and finding the length of the set.\n",
    "\n",
    "The `intersection` of sets returns the elements occurring in all sets. Instead, the `union` return all the elements occuring in either set."
   ]
  },
  {
   "cell_type": "code",
   "execution_count": 5,
   "id": "764c6eb4-0ca8-40a8-be6c-19b9ab91779c",
   "metadata": {},
   "outputs": [
    {
     "name": "stdout",
     "output_type": "stream",
     "text": [
      "{8, 1, 2, 4}\n"
     ]
    },
    {
     "data": {
      "text/plain": [
       "{1, 2, 4, 6, 7, 8}"
      ]
     },
     "execution_count": 5,
     "metadata": {},
     "output_type": "execute_result"
    }
   ],
   "source": [
    "# Define two sets\n",
    "set_1 = {2,2,2,1,4,8}\n",
    "set_2 = {1,2,6,7}\n",
    "\n",
    "# Intersection\n",
    "set_1.intersection(set_2)\n",
    "\n",
    "# Union\n",
    "set_1.union(set_2)"
   ]
  },
  {
   "cell_type": "markdown",
   "id": "4ee3d5f8-775f-47e6-a5b6-9ce268f84b0d",
   "metadata": {},
   "source": [
    "# List, dict and set comprehensions"
   ]
  },
  {
   "cell_type": "markdown",
   "id": "bdacb841-da97-4fff-9d7c-f0bd91439cbf",
   "metadata": {},
   "source": [
    "A list comprehension is a concise way to create lists in Python. It allows you to iterate over an iterable object (such as a list, tuple, or string) and apply conditions or transformations to each element before adding it to the new list. This technique is often used to perform complex operations on lists or filter elements based on certain criteria.\n",
    "\n",
    "The syntax for a list comprehension is as follows:\n",
    "\n",
    "```python\n",
    "new_list = [expression for item in iterable if condition]\n",
    "```\n",
    "\n",
    "where expression represents the operation or transformation to be applied to each item, item represents the variable representing each element in the iterable, iterable is the object to iterate over, and condition is an optional condition that filters the elements based on a certain criteria.\n",
    "\n",
    "List comprehensions are a powerful tool in Python that allow for more concise and readable code when working with lists.\n"
   ]
  },
  {
   "cell_type": "code",
   "execution_count": 7,
   "id": "46a8da5f-ce71-4a3b-8ff9-a5032a79eb2f",
   "metadata": {},
   "outputs": [
    {
     "name": "stdout",
     "output_type": "stream",
     "text": [
      "[1, 4, 9, 16, 25]\n"
     ]
    }
   ],
   "source": [
    "# Square each element of the list\n",
    "numbers = [1, 2, 3, 4, 5]\n",
    "squared_numbers = [num**2 for num in numbers]\n",
    "print(squared_numbers)"
   ]
  },
  {
   "cell_type": "markdown",
   "id": "98eece6e-c741-425c-924d-b03bff9987ef",
   "metadata": {},
   "source": [
    "Similarly, it is possibile to create dict and set comprehension.\n",
    "\n",
    "```python\n",
    "new_dict = {key-expr: value-expr for value in collection if condition}}\n",
    "new_set = {expression for item in iterable if condition}\n",
    "```"
   ]
  },
  {
   "cell_type": "code",
   "execution_count": 9,
   "id": "343a8919-8963-43ca-892b-b0ccfc993595",
   "metadata": {},
   "outputs": [
    {
     "name": "stdout",
     "output_type": "stream",
     "text": [
      "{1: 1, 2: 4, 3: 9, 4: 16, 5: 25}\n"
     ]
    }
   ],
   "source": [
    "# Square each element of the list and generate a dict\n",
    "\n",
    "numbers = [1, 2, 3, 4, 5]\n",
    "squared_numbers_dict = {n: n**2 for n in numbers}\n",
    "print(squared_numbers_dict)"
   ]
  },
  {
   "cell_type": "markdown",
   "id": "560b0b7a-cb71-4722-bec8-3c0cdd86cec8",
   "metadata": {},
   "source": [
    "# Generator"
   ]
  },
  {
   "cell_type": "markdown",
   "id": "ad3f441a-4c35-4c89-ae69-821c49471706",
   "metadata": {},
   "source": [
    "In Python, a generator is a special type of iterable, like a list or a tuple, but it allows you to iterate over its elements lazily, meaning it produces values on-the-fly and doesn't store them in memory. This is particularly useful when dealing with large datasets or infinite sequences.\n",
    "\n",
    "Generators are created using a function with the `yield` keyword. When a generator function is called, it doesn't execute immediately but returns an iterator called a generator. The generator can be iterated over, and each call to the `yield` statement produces the next value in the sequence.\n",
    "\n",
    "Here's a simple example of a generator function:\n",
    "\n",
    "```python\n",
    "def simple_generator():\n",
    "    yield 1\n",
    "    yield 2\n",
    "    yield 3\n",
    "\n",
    "# Using the generator\n",
    "gen = simple_generator()\n",
    "\n",
    "print(next(gen))  # Output: 1\n",
    "print(next(gen))  # Output: 2\n",
    "print(next(gen))  # Output: 3\n",
    "```\n",
    "\n",
    "You can also use a generator expression, which has a syntax similar to a list comprehension but uses parentheses instead of square brackets:\n",
    "\n",
    "```python\n",
    "generator_expr = (x ** 2 for x in range(5))\n",
    "\n",
    "for value in generator_expr:\n",
    "    print(value)\n",
    "```\n",
    "\n",
    "Generators are memory-efficient because they don't store all values in memory at once, making them suitable for large datasets or when you need to generate values on-the-fly. They are particularly useful in scenarios where you want to iterate over a sequence without loading the entire sequence into memory."
   ]
  },
  {
   "cell_type": "code",
   "execution_count": 7,
   "id": "128d8b42-99b4-488e-9e8f-a3ead566f1b7",
   "metadata": {},
   "outputs": [
    {
     "name": "stdout",
     "output_type": "stream",
     "text": [
      "0\n"
     ]
    }
   ],
   "source": [
    "# Define a generator function called gen_sum that takes an iterable 'values' as input.\n",
    "def gen_sum(values):\n",
    "    # Initialize a variable 'sum' to store the cumulative sum.\n",
    "    sum = 0\n",
    "\n",
    "    # Iterate through the indices of the 'values' iterable.\n",
    "    for i in range(len(values)):\n",
    "        # Add the current element in 'values' to the cumulative sum.\n",
    "        sum += values[i]\n",
    "\n",
    "        # Yield the current cumulative sum, allowing the generator to produce values lazily.\n",
    "        yield sum\n",
    "\n",
    "# Create a generator object 'my_sum' using the gen_sum function with the range(5) iterable.\n",
    "my_sum = gen_sum(range(5))\n",
    "\n",
    "# Print the next value generated by 'my_sum'.\n",
    "print(next(my_sum))"
   ]
  },
  {
   "cell_type": "markdown",
   "id": "2b04e55a-60be-4870-b9cb-aca244e4d802",
   "metadata": {},
   "source": [
    "Explanation:\n",
    "\n",
    "1. The `gen_sum` function is defined to generate cumulative sums of elements in an iterable.\n",
    "2. The variable `sum` is initialized to keep track of the cumulative sum.\n",
    "3. The function iterates through the indices of the input iterable `values`.\n",
    "4. In each iteration, it adds the current element in `values` to the cumulative sum.\n",
    "5. The `yield sum` statement produces the current cumulative sum as the next value of the generator.\n",
    "6. A generator object `my_sum` is created by calling `gen_sum` with the iterable `range(5)`.\n",
    "7. The `next(my_sum)` call prints the first value generated by the generator, which is the cumulative sum of the elements in the initial part of the range(5)."
   ]
  },
  {
   "cell_type": "code",
   "execution_count": 90,
   "id": "60a212e6-4208-4b91-b7d9-9880df81da16",
   "metadata": {},
   "outputs": [
    {
     "name": "stdout",
     "output_type": "stream",
     "text": [
      "1\n",
      "3\n",
      "6\n",
      "10\n"
     ]
    }
   ],
   "source": [
    "# Print the next values generated by 'my_sum'.\n",
    "print(next(my_sum))  # Cumulative sum of the next elements in the range(5)\n",
    "print(next(my_sum))  # Cumulative sum of the next elements in the range(5)\n",
    "# ... and so on\n",
    "\n",
    "# Alternatively, you can use a loop to print multiple values.\n",
    "for _ in range(2):  # Print the next two values\n",
    "    print(next(my_sum))  # Cumulative sums for subsequent elements\n"
   ]
  },
  {
   "cell_type": "markdown",
   "id": "743cbab4-33cb-463d-8b99-3f1e7b6d6098",
   "metadata": {},
   "source": [
    "To avoid the `StopIteration` error, you can use a loop along with the `next()` function and catch the `StopIteration` exception using a try-except block. When the generator is exhausted, it raises a `StopIteration` exception. Here's an example:"
   ]
  },
  {
   "cell_type": "code",
   "execution_count": 91,
   "id": "3348d0f0-575b-4aff-96c1-6bfca3abf246",
   "metadata": {},
   "outputs": [
    {
     "name": "stdout",
     "output_type": "stream",
     "text": [
      "0\n",
      "1\n",
      "3\n",
      "6\n",
      "10\n",
      "Generator is exhausted.\n"
     ]
    }
   ],
   "source": [
    "# Create a generator object 'my_sum' using the gen_sum function with the range(5) iterable.\n",
    "my_sum = gen_sum(range(5))\n",
    "\n",
    "try:\n",
    "    # Use a loop to print all values generated by 'my_sum'.\n",
    "    while True:\n",
    "        print(next(my_sum))\n",
    "except StopIteration:\n",
    "    # Handle the StopIteration exception when the generator is exhausted.\n",
    "    print(\"Generator is exhausted.\")"
   ]
  },
  {
   "cell_type": "markdown",
   "id": "3dc36fed-79b0-49a5-8998-01bf65856847",
   "metadata": {},
   "source": [
    "In this example, the `while True` loop continues indefinitely until the generator is exhausted, at which point a `StopIteration` exception is caught, and the loop is exited. This way, you can print all values generated by the generator without encountering the `StopIteration` error.\n",
    "\n",
    "Keep in mind that you need to handle the `StopIteration` exception appropriately based on your specific requirements. In this example, I've added a print statement, but you might want to implement different behavior depending on your use case."
   ]
  },
  {
   "cell_type": "markdown",
   "id": "9535faf0-f03d-44c1-a829-b3629635f75d",
   "metadata": {},
   "source": [
    "# Useful functions for managing lists, dictionaries, and sets"
   ]
  },
  {
   "cell_type": "markdown",
   "id": "845a79d3-7ac2-4dfc-89ca-7725e7020276",
   "metadata": {},
   "source": [
    "## enumerate"
   ]
  },
  {
   "cell_type": "markdown",
   "id": "9ce6424e-7105-40f7-b98c-6a1648a8d556",
   "metadata": {},
   "source": [
    "The `enumerate` function in Python is a built-in function that is used to iterate over a sequence (such as a list, tuple, or string) while keeping track of the index of the current item. It returns tuples containing the index and the corresponding item in the sequence.\n",
    "\n",
    "Here's the basic syntax of the `enumerate` function:\n",
    "\n",
    "```python\n",
    "enumerate(iterable, start=0)\n",
    "```\n",
    "\n",
    "- `iterable`: The sequence (list, tuple, string, etc.) to be iterated over.\n",
    "- `start`: (Optional) The index at which to start counting. Default is 0.\n",
    "\n",
    "The `enumerate` function is useful when you need to loop through both the elements and their indices in a sequence simultaneously."
   ]
  },
  {
   "cell_type": "code",
   "execution_count": 11,
   "id": "9812e019-c65d-4687-a2ba-96c0491e106e",
   "metadata": {},
   "outputs": [
    {
     "name": "stdout",
     "output_type": "stream",
     "text": [
      "Index: 0, Value: apple\n",
      "Index: 1, Value: banana\n",
      "Index: 2, Value: orange\n"
     ]
    }
   ],
   "source": [
    "my_list = ['apple', 'banana', 'orange']\n",
    "\n",
    "for index, value in enumerate(my_list):\n",
    "    print(f'Index: {index}, Value: {value}')"
   ]
  },
  {
   "cell_type": "markdown",
   "id": "80e9b320-20c4-4c74-be50-a9bf8622724a",
   "metadata": {},
   "source": [
    "## zip"
   ]
  },
  {
   "cell_type": "markdown",
   "id": "41233a9f-a845-4ecb-9018-50f21e36b66f",
   "metadata": {},
   "source": [
    "The `zip` function in Python is another built-in function that is used to combine multiple iterables (e.g., lists, tuples) element-wise, creating an iterator of tuples. Each tuple contains elements from the input iterables at the corresponding positions. The resulting iterator stops when the shortest input iterable is exhausted.\n",
    "\n",
    "```python\n",
    "zip(iterable1, iterable2, ..., iterable_n)\n",
    "```\n",
    "`iterable1`, `iterable2`, `iterable_n` are the iterables that you want to zip together.\n"
   ]
  },
  {
   "cell_type": "code",
   "execution_count": 10,
   "id": "1f78a121-7f3a-41a5-b37e-c6f0610aea1f",
   "metadata": {},
   "outputs": [
    {
     "name": "stdout",
     "output_type": "stream",
     "text": [
      "(1, 'a', 'x')\n",
      "(2, 'b', 'y')\n",
      "(3, 'c', 'z')\n"
     ]
    }
   ],
   "source": [
    "list1 = [1, 2, 3]\n",
    "list2 = ['a', 'b', 'c']\n",
    "list3 = ['x', 'y', 'z']\n",
    "\n",
    "zipped_lists = zip(list1, list2, list3)\n",
    "\n",
    "for item in zipped_lists:\n",
    "    print(item)"
   ]
  },
  {
   "cell_type": "markdown",
   "id": "263dee5e-1961-497e-95cf-354222e21c31",
   "metadata": {},
   "source": [
    "You can also use the `zip` function to unzip a zipped iterable using the `*` (unpacking) operator:\n",
    "\n",
    "```python\n",
    "unzipped_lists = zip(*zipped_lists)\n",
    "```"
   ]
  },
  {
   "cell_type": "code",
   "execution_count": 12,
   "id": "a5c71d47-7201-4f2c-a651-157302b04dd9",
   "metadata": {},
   "outputs": [],
   "source": [
    "unzipped_lists = zip(*zipped_lists)"
   ]
  },
  {
   "cell_type": "markdown",
   "id": "c1571090-cfd4-4cad-a237-9003703e0df2",
   "metadata": {},
   "source": [
    "The `zip` function is commonly used when you need to iterate over multiple iterables simultaneously, especially when you want to work with corresponding elements from each iterable in a paired manner."
   ]
  },
  {
   "cell_type": "markdown",
   "id": "2e7bb394-e82f-4273-8faa-bce333ed9666",
   "metadata": {},
   "source": [
    "## map"
   ]
  },
  {
   "cell_type": "markdown",
   "id": "ac99b945-731f-4137-ae73-b84b3ea582ea",
   "metadata": {},
   "source": [
    "The `map` function in Python is a built-in function that applies a specified function to all items in an input iterable (e.g., list, tuple) and returns an iterator that produces the results. The syntax for the `map` function is as follows:\n",
    "\n",
    "```python\n",
    "map(function, iterable, ...)\n",
    "```\n",
    "\n",
    "- `function`: The function to apply to each item in the iterable.\n",
    "- `iterable`: The iterable whose elements will be processed by the function.\n",
    "- `...` (optional): You can provide multiple iterables, and the function will be applied to corresponding elements of all iterables. If multiple iterables are used, the function must take as many arguments as there are iterables."
   ]
  },
  {
   "cell_type": "code",
   "execution_count": 31,
   "id": "5c41aa41-5b2a-4bc8-bd5e-233405ec5559",
   "metadata": {},
   "outputs": [
    {
     "name": "stdout",
     "output_type": "stream",
     "text": [
      "[1, 4, 9, 16, 25]\n"
     ]
    }
   ],
   "source": [
    "def square(x):\n",
    "    return x ** 2\n",
    "\n",
    "numbers = [1, 2, 3, 4, 5]\n",
    "\n",
    "squared_numbers = map(square, numbers)\n",
    "\n",
    "# Convert the iterator to a list for printing the result\n",
    "result_list = list(squared_numbers)\n",
    "\n",
    "print(result_list)"
   ]
  },
  {
   "cell_type": "code",
   "execution_count": 32,
   "id": "8848ecfb-ea49-4684-9b7c-39932a12964c",
   "metadata": {},
   "outputs": [
    {
     "name": "stdout",
     "output_type": "stream",
     "text": [
      "[5, 8, 9, 8, 5]\n"
     ]
    }
   ],
   "source": [
    "def multiplication(x,y):\n",
    "    return x*y\n",
    "\n",
    "num_1 = [1,2,3,4,5]\n",
    "num_2 = [5,4,3,2,1]\n",
    "\n",
    "multipl_results = map(multiplication, num_1, num_2)\n",
    "result_list = list(multipl_results)\n",
    "\n",
    "print(result_list)"
   ]
  },
  {
   "cell_type": "markdown",
   "id": "44827412-9ebf-40f5-9a1e-267088d7c9fb",
   "metadata": {},
   "source": [
    "In this example, the `square` function is applied to each element in the `numbers` list using `map`, resulting in a new iterable with the squared values. The `map` function is a convenient way to perform operations on each item in an iterable without the need for explicit loops. It's commonly used for tasks like applying a transformation to each element in a list or performing element-wise operations on multiple lists."
   ]
  },
  {
   "cell_type": "markdown",
   "id": "1ea984e8-824f-467c-b654-3737145b6a71",
   "metadata": {},
   "source": [
    "# Lambda functions"
   ]
  },
  {
   "cell_type": "markdown",
   "id": "156d0169-2a8d-4cc4-bdd1-70954528ee2c",
   "metadata": {},
   "source": [
    "A lambda function in Python is a small, anonymous function defined using the `lambda` keyword. Lambda functions are often used for short, simple operations where a full function definition would be overkill. The syntax for a lambda function is:\n",
    "\n",
    "```python\n",
    "lambda arguments: expression\n",
    "```"
   ]
  },
  {
   "cell_type": "code",
   "execution_count": 39,
   "id": "72a026eb-9dfd-4703-a94e-8b9e94cab314",
   "metadata": {},
   "outputs": [
    {
     "name": "stdout",
     "output_type": "stream",
     "text": [
      "25\n",
      "25\n"
     ]
    }
   ],
   "source": [
    "# Regular function\n",
    "def square(x):\n",
    "    return x ** 2\n",
    "\n",
    "# Equivalent lambda function\n",
    "square_lambda = lambda x: x ** 2\n",
    "\n",
    "# Using both functions\n",
    "print(square(5))           # Output: 25\n",
    "print(square_lambda(5))    # Output: 25"
   ]
  },
  {
   "cell_type": "code",
   "execution_count": 40,
   "id": "9c896e53-deeb-4a2c-b749-4f63cedfe934",
   "metadata": {},
   "outputs": [
    {
     "name": "stdout",
     "output_type": "stream",
     "text": [
      "12\n"
     ]
    }
   ],
   "source": [
    "# Lambda function with two arguments\n",
    "my_lambda = lambda x,y: x+y\n",
    "\n",
    "print(my_lambda(10,2))"
   ]
  },
  {
   "cell_type": "markdown",
   "id": "601a2696-e3af-40ad-8411-a8be47135115",
   "metadata": {},
   "source": [
    "In this example, both the regular function `square` and the lambda function `square_lambda` perform the same operation: squaring the input. However, lambda functions are typically used for short-lived operations where a named function is not required.\n",
    "\n",
    "Lambda functions are often employed with higher-order functions like `map`, `filter`, and `reduce`. Here's an example using `map`:"
   ]
  },
  {
   "cell_type": "code",
   "execution_count": 38,
   "id": "08ffd983-e2fb-48fd-97fc-a0b2704da21a",
   "metadata": {},
   "outputs": [
    {
     "name": "stdout",
     "output_type": "stream",
     "text": [
      "[1, 4, 9, 16, 25]\n"
     ]
    }
   ],
   "source": [
    "numbers = [1, 2, 3, 4, 5]\n",
    "\n",
    "# Using a lambda function with map\n",
    "squared_numbers = map(lambda x: x ** 2, numbers)\n",
    "\n",
    "# Convert the iterator to a list for printing the result\n",
    "result_list = list(squared_numbers)\n",
    "\n",
    "print(result_list)"
   ]
  },
  {
   "cell_type": "markdown",
   "id": "fb52fd3a-c00e-4dab-9bdd-619622dcc4e4",
   "metadata": {},
   "source": [
    "Lambda functions are concise and can be useful in situations where a short, throwaway function is needed. However, for more complex or reusable functions, it's often better to use a regular function definition."
   ]
  }
 ],
 "metadata": {
  "kernelspec": {
   "display_name": "Python 3 (ipykernel)",
   "language": "python",
   "name": "python3"
  },
  "language_info": {
   "codemirror_mode": {
    "name": "ipython",
    "version": 3
   },
   "file_extension": ".py",
   "mimetype": "text/x-python",
   "name": "python",
   "nbconvert_exporter": "python",
   "pygments_lexer": "ipython3",
   "version": "3.10.12"
  }
 },
 "nbformat": 4,
 "nbformat_minor": 5
}
