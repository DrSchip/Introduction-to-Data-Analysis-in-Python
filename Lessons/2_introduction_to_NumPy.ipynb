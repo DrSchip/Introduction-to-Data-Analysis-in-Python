{
 "cells": [
  {
   "cell_type": "markdown",
   "id": "3a490583-e881-4731-a911-528acebd75c1",
   "metadata": {},
   "source": [
    "# Introduction to NumPy"
   ]
  },
  {
   "cell_type": "markdown",
   "id": "ff57244d-f543-4687-85e7-29bcf9142261",
   "metadata": {},
   "source": [
    "NumPy, which stands for Numerical Python, is a powerful open-source library in Python that provides support for large, multidimensional arrays and matrices, along with a collection of mathematical functions to operate on these arrays. It is a fundamental package for scientific computing with Python.\n",
    "\n",
    "Key features of NumPy include:\n",
    "\n",
    "1. **Multidimensional Arrays:** NumPy provides an `array` object that represents a multidimensional, homogeneous array of fixed-size items. These arrays can be of any dimension, and the elements are of the same data type.\n",
    "\n",
    "2. **Mathematical Operations:** NumPy includes a vast array of mathematical functions that operate on entire arrays without the need for explicit looping. These functions are implemented in C and Fortran, making them efficient for numerical computations.\n",
    "\n",
    "3. **Broadcasting:** NumPy supports broadcasting, a powerful mechanism that allows operations between arrays of different shapes and sizes. Broadcasting automatically expands smaller arrays to perform operations with larger arrays, eliminating the need for explicit loops and improving code readability.\n",
    "\n",
    "4. **Integration with Other Libraries:** NumPy is often used in conjunction with other scientific computing libraries, such as SciPy (Scientific Python), Matplotlib (for plotting and visualization), and scikit-learn (for machine learning).\n",
    "\n",
    "5. **Efficient Memory Usage:** NumPy arrays are more memory-efficient compared to Python lists, as they store data in a contiguous block of memory.\n",
    "\n",
    "NumPy is a foundational library for numerical and scientific computing in Python and is widely used in fields such as machine learning, data analysis, signal processing, and more."
   ]
  },
  {
   "cell_type": "markdown",
   "id": "17c96b9a-ef90-4608-b8f4-05dd65a2768e",
   "metadata": {},
   "source": [
    "## Numpy ndarray"
   ]
  },
  {
   "cell_type": "markdown",
   "id": "c172b989-3f9f-430d-9430-45f6af79a152",
   "metadata": {},
   "source": [
    "In NumPy, an `ndarray` (short for \"N-dimensional array\") is a central data structure that represents a multidimensional, homogeneous array of fixed-size items. It is the primary building block of NumPy, providing a powerful and efficient way to store and manipulate large datasets.\n",
    "\n",
    "Key characteristics of NumPy ndarrays include:\n",
    "\n",
    "1. **Multidimensional:** ndarrays can have any number of dimensions. A 1-dimensional array is similar to a list, a 2-dimensional array is similar to a matrix, and so on.\n",
    "\n",
    "2. **Homogeneous Data Type:** All elements in an ndarray must be of the same data type. This ensures that the array can be stored efficiently in memory, allowing for fast and vectorized operations.\n",
    "\n",
    "3. **Fixed Size:** The size of an ndarray is fixed upon creation, and it cannot be changed. However, you can create a new array with a different size if needed.\n",
    "\n",
    "4. **Efficient Operations:** NumPy provides a wide range of functions for performing mathematical and logical operations on ndarrays. These operations are implemented in C and Fortran, making them fast and efficient.\n",
    "\n",
    "5. **Broadcasting:** ndarrays support broadcasting, allowing operations between arrays of different shapes and sizes. Broadcasting automatically expands smaller arrays to match the shape of larger arrays, simplifying code and improving performance."
   ]
  },
  {
   "cell_type": "code",
   "execution_count": 1,
   "id": "72c45bc1-aa7f-4a7b-ab54-67e06bbee809",
   "metadata": {},
   "outputs": [
    {
     "name": "stdout",
     "output_type": "stream",
     "text": [
      "my array [[1 2 3]\n",
      " [4 5 6]]\n",
      "zeros array [0. 0. 0. 0. 0. 0. 0. 0. 0. 0. 0. 0. 0. 0. 0.]\n",
      "ones array [[1. 1.]\n",
      " [1. 1.]\n",
      " [1. 1.]\n",
      " [1. 1.]\n",
      " [1. 1.]]\n",
      "empty array [[1. 1.]\n",
      " [1. 1.]\n",
      " [1. 1.]\n",
      " [1. 1.]\n",
      " [1. 1.]]\n"
     ]
    }
   ],
   "source": [
    "import numpy as np\n",
    "\n",
    "# Create a 2-dimensional array\n",
    "my_array = np.array([[1, 2, 3], [4, 5, 6]])\n",
    "print(\"my array\", my_array)\n",
    "\n",
    "# Defining the shape of the numpy array\n",
    "shape = (5, 2)\n",
    "\n",
    "# Create a numpy array filled with zeros\n",
    "zeros_array = np.zeros(15)\n",
    "print(\"zeros array\", zeros_array)\n",
    "\n",
    "# Create a 3x3 numpy array filled with ones\n",
    "ones_array = np.ones(shape)\n",
    "print(\"ones array\", ones_array)\n",
    "\n",
    "# Create an empty numpy array\n",
    "empty_array = np.empty(shape)\n",
    "print(\"empty array\", empty_array)"
   ]
  },
  {
   "cell_type": "code",
   "execution_count": 2,
   "id": "e8d7d84b-c18d-47a5-bc13-4a01533d886f",
   "metadata": {},
   "outputs": [
    {
     "name": "stdout",
     "output_type": "stream",
     "text": [
      "The shape of ones array is (5, 2)\n"
     ]
    }
   ],
   "source": [
    "# Check the shape of numpy array\n",
    "print(f\"The shape of ones array is {ones_array.shape}\")"
   ]
  },
  {
   "cell_type": "code",
   "execution_count": 3,
   "id": "a3fa319c-4cef-49a1-adc3-0c0279f435ac",
   "metadata": {},
   "outputs": [
    {
     "name": "stdout",
     "output_type": "stream",
     "text": [
      "The shape of zeros array is (15,)\n",
      "The shape of zeros array is now (5, 3)\n"
     ]
    }
   ],
   "source": [
    "print(f\"The shape of zeros array is {zeros_array.shape}\")\n",
    "# Reshape zeros array\n",
    "zeros_array = zeros_array.reshape(5,3)\n",
    "print(f\"The shape of zeros array is now {zeros_array.shape}\")"
   ]
  },
  {
   "cell_type": "markdown",
   "id": "dd859876-16ef-43ff-bb79-15049ac61905",
   "metadata": {},
   "source": [
    "## Vectorization, universal functions and comparisons"
   ]
  },
  {
   "cell_type": "markdown",
   "id": "54db9032-39f1-4e52-b2c6-5830f8f6b5ba",
   "metadata": {},
   "source": [
    "### Vectorization\n",
    "\n",
    "In NumPy, **vectorization** refers to the process of performing operations on entire arrays rather than on individual elements. It is a powerful feature that allows you to express operations in a concise and efficient manner without the need for explicit looping constructs in Python.\n",
    "\n",
    "Here are key aspects of vectorization in NumPy:\n",
    "\n",
    "1. **Element-wise Operations:** Vectorized operations apply a given operation to each element in the array. This is in contrast to traditional Python lists, where you might need to use explicit loops to achieve the same result.\n",
    "\n",
    "2. **Broadcasting:** NumPy extends the concept of vectorization through broadcasting, which allows operations on arrays of different shapes and sizes. Broadcasting automatically aligns arrays and performs operations in a way that makes sense, avoiding the need for explicit reshaping or looping.\n",
    "\n",
    "3. **Performance Benefits:** Vectorized operations in NumPy are implemented in low-level languages like C and Fortran, making them significantly faster than equivalent operations using pure Python constructs. This is particularly advantageous when dealing with large datasets.\n",
    "\n",
    "Here's a simple example illustrating vectorization in NumPy:"
   ]
  },
  {
   "cell_type": "code",
   "execution_count": 4,
   "id": "d1f88288-c655-4789-a893-2bfadf2a27ea",
   "metadata": {},
   "outputs": [
    {
     "name": "stdout",
     "output_type": "stream",
     "text": [
      "[ 6  8 10 12]\n"
     ]
    }
   ],
   "source": [
    "import numpy as np\n",
    "\n",
    "# Create two NumPy arrays\n",
    "arr1 = np.array([1, 2, 3, 4])\n",
    "arr2 = np.array([5, 6, 7, 8])\n",
    "\n",
    "# Vectorized addition\n",
    "result = arr1 + arr2\n",
    "\n",
    "print(result)  # Output: [6 8 10 12]"
   ]
  },
  {
   "cell_type": "markdown",
   "id": "1d52222f-f999-45d7-a581-097f2e668bb3",
   "metadata": {},
   "source": [
    "In this example, the `+` operator is applied element-wise to the arrays `arr1` and `arr2`. This is achieved without the need for explicit looping, demonstrating the concept of vectorization.\n",
    "\n",
    "Vectorization is a fundamental aspect of NumPy that enables concise, readable, and efficient code for numerical operations on arrays. It's a key reason why NumPy is widely used in scientific computing and data analysis in Python."
   ]
  },
  {
   "cell_type": "code",
   "execution_count": 5,
   "id": "5088691c-6964-4ca6-89c6-411b8bd16aab",
   "metadata": {},
   "outputs": [
    {
     "name": "stdout",
     "output_type": "stream",
     "text": [
      "[1.         0.5        0.33333333 0.25      ]\n",
      "[25 36 49 64]\n"
     ]
    }
   ],
   "source": [
    "# Element-wise division\n",
    "result1 = 1 / arr1\n",
    "print(result1)  # Output: [1.         0.5        0.33333333 0.25      ]\n",
    "\n",
    "# Element-wise exponentiation\n",
    "result2 = arr2**2\n",
    "print(result2)  # Output: [25 36 49 64]"
   ]
  },
  {
   "cell_type": "markdown",
   "id": "c92f1a94-a245-46c6-af0f-63cd16ec522f",
   "metadata": {},
   "source": [
    "### Universal functions\n",
    "\n",
    "Universal functions (*ufuncs*) in NumPy are functions that operate element-wise on arrays, which means they apply the same operation to each element in the input array independently. These functions are a key feature of NumPy, providing a way to perform efficient and vectorized operations on arrays without the need for explicit looping.\n",
    "\n",
    "Here are some key characteristics and examples of universal functions in NumPy:\n",
    "\n",
    "1. **Element-Wise Operations:** Ufuncs perform element-wise operations, applying a specific mathematical operation to each element of an array.\n",
    "\n",
    "2. **Vectorized Operations:** Ufuncs allow for vectorized operations, which can significantly improve performance compared to traditional looping through arrays.\n",
    "\n",
    "3. **Broadcasting:** Ufuncs also leverage NumPy's broadcasting capabilities, which enable operations on arrays of different shapes and sizes to be handled seamlessly.\n",
    "\n",
    "4. **Syntax:** Ufuncs are typically invoked using a functional syntax, such as `np.add()`, `np.sin()`, or `np.exp()`."
   ]
  },
  {
   "cell_type": "code",
   "execution_count": 6,
   "id": "6b77b158-25b3-4f04-927e-85c4ccfd430e",
   "metadata": {},
   "outputs": [
    {
     "name": "stdout",
     "output_type": "stream",
     "text": [
      "[5 7 9]\n",
      "[0.0000000e+00 1.0000000e+00 1.2246468e-16]\n",
      "[ 2.71828183  7.3890561  20.08553692]\n"
     ]
    }
   ],
   "source": [
    "# Element-wise addition\n",
    "arr1 = np.array([1, 2, 3])\n",
    "arr2 = np.array([4, 5, 6])\n",
    "result = np.add(arr1, arr2)  # Equivalent to arr1 + arr2\n",
    "print(result)\n",
    "\n",
    "# Element-wise sine function\n",
    "angles = np.array([0, np.pi/2, np.pi])\n",
    "sine_values = np.sin(angles)\n",
    "print(sine_values)\n",
    "\n",
    "# Element-wise exponential function\n",
    "numbers = np.array([1, 2, 3])\n",
    "exponential_values = np.exp(numbers)\n",
    "print(exponential_values)"
   ]
  },
  {
   "cell_type": "markdown",
   "id": "6f2ddde1-fcfb-41a5-aaef-8a1d42e31324",
   "metadata": {},
   "source": [
    "In these examples, `np.add()`, `np.sin()`, and `np.exp()` are ufuncs performing element-wise addition, sine function, and exponential function, respectively.\n",
    "\n",
    "Sometimes, *ufuncs* can return multiple arrays. This is the case, for example, with the `numpy.modf` function, which returns the fractional and integral parts of a floating-point array."
   ]
  },
  {
   "cell_type": "code",
   "execution_count": 7,
   "id": "cfcb7af9-cac3-4243-a6a0-0daaeaa28864",
   "metadata": {},
   "outputs": [
    {
     "name": "stdout",
     "output_type": "stream",
     "text": [
      "Generated array of random floating-point numbers:\n",
      "[[ 7.53834471 10.10016703 11.8302043   9.64685997]\n",
      " [10.29834447 10.40144864  9.50471674 10.02110657]\n",
      " [ 8.95249871  9.35871332 10.72700283 10.90829329]]\n",
      "\n",
      "The fractional part is:\n",
      " [[0.53834471 0.10016703 0.8302043  0.64685997]\n",
      " [0.29834447 0.40144864 0.50471674 0.02110657]\n",
      " [0.95249871 0.35871332 0.72700283 0.90829329]]\n",
      "\n",
      "The integral part is:\n",
      " [[ 7. 10. 11.  9.]\n",
      " [10. 10.  9. 10.]\n",
      " [ 8.  9. 10. 10.]]\n"
     ]
    }
   ],
   "source": [
    "# Generate a 3x4 array of random floating-point numbers with mean=10, standard deviation=1\n",
    "float_arr = np.random.normal(loc=10, scale=1, size=(3, 4))\n",
    "\n",
    "# Print the generated array\n",
    "print(\"Generated array of random floating-point numbers:\")\n",
    "print(float_arr)\n",
    "\n",
    "# Use np.modf to separate the fractional and integral parts of the array\n",
    "fractional, integral = np.modf(float_arr)\n",
    "\n",
    "# Print the fractional and integral parts\n",
    "print(f\"\\nThe fractional part is:\\n {fractional}\")\n",
    "print(f\"\\nThe integral part is:\\n {integral}\")"
   ]
  },
  {
   "cell_type": "markdown",
   "id": "f6a33e68-46c9-4700-9da2-8beb4b7a1699",
   "metadata": {},
   "source": [
    "### ndarray comparisons\n",
    "\n",
    "In Python, when you compare two arrays (or any iterable objects) of the same size using comparison operators, the result is a Boolean array. This behavior is particularly common when using libraries like NumPy."
   ]
  },
  {
   "cell_type": "code",
   "execution_count": 8,
   "id": "41e211cd-d5f4-4f44-8fae-6c343d80ae1b",
   "metadata": {},
   "outputs": [
    {
     "name": "stdout",
     "output_type": "stream",
     "text": [
      "[False  True  True  True]\n"
     ]
    }
   ],
   "source": [
    "# Create two NumPy arrays\n",
    "array1 = np.array([1, 2, 3, 4])\n",
    "array2 = np.array([2, 2, 3, 4])\n",
    "\n",
    "# Element-wise comparison\n",
    "comparison_result = (array1 == array2)\n",
    "\n",
    "print(comparison_result)"
   ]
  },
  {
   "cell_type": "markdown",
   "id": "cce5a09d-bb91-44b4-8661-4eb5aa7cf533",
   "metadata": {},
   "source": [
    "In this example, the `comparison_result` array will be `[False, True, True, True]` because only the second element in `array1` is equal to the corresponding element in `array2`.\n",
    "\n",
    "You can perform other element-wise comparisons using different operators like `!=` (not equal), `<` (less than), `>` (greater than), `<=` (less than or equal to), and `>=` (greater than or equal to). The resulting array will contain Boolean values indicating the result of each element-wise comparison.\n",
    "\n",
    "Keep in mind that this behavior is specific to certain libraries or data structures that support element-wise operations, like NumPy arrays or other iterable objects in Python. If you're working with plain Python lists, the behavior may be different, and you might need to use list comprehensions or other techniques to achieve similar results."
   ]
  },
  {
   "cell_type": "markdown",
   "id": "f00a64f0-011c-4ce5-80e0-b12db2763a65",
   "metadata": {},
   "source": [
    "The `np.where` function in is a versatile tool for element-wise conditional operations. It is used to return the indices of elements in an array that satisfy a given condition. The syntax of `np.where` is as follows:\n",
    "\n",
    "```python\n",
    "numpy.where(condition[, x, y])\n",
    "```\n",
    "\n",
    "- `condition`: This is the condition to be checked. If it is True, the corresponding elements from `x` are chosen; otherwise, the elements from `y` are chosen.\n",
    "\n",
    "- `x`, `y` (optional): These are the values from which to choose when the condition is True or False, respectively. If `x` and `y` are not provided, `np.where` returns the indices where the condition is True.\n",
    "\n",
    "Here are some examples to illustrate the usage of `np.where`:"
   ]
  },
  {
   "cell_type": "code",
   "execution_count": 9,
   "id": "69bee0ee-2926-4352-8a42-8c39072b4330",
   "metadata": {},
   "outputs": [
    {
     "name": "stdout",
     "output_type": "stream",
     "text": [
      "Indices where elements are greater than 2:\n",
      "(array([2, 3, 4]),)\n",
      "\n",
      "Array with 'yes' for elements greater than 2, 'no' otherwise:\n",
      "['no' 'no' 'yes' 'yes' 'yes']\n"
     ]
    }
   ],
   "source": [
    "# Create a NumPy array\n",
    "arr = np.array([1, 2, 3, 4, 5])\n",
    "\n",
    "# Use np.where to find indices where elements are greater than 2\n",
    "result_indices = np.where(arr > 2)\n",
    "\n",
    "# Print the result indices\n",
    "print(\"Indices where elements are greater than 2:\")\n",
    "print(result_indices)\n",
    "# Output: (array([2, 3, 4]),)\n",
    "\n",
    "# Use np.where with condition and values to create a new array\n",
    "result_values = np.where(arr > 2, 'yes', 'no')\n",
    "\n",
    "# Print the result array with replaced values based on the condition\n",
    "print(\"\\nArray with 'yes' for elements greater than 2, 'no' otherwise:\")\n",
    "print(result_values)\n",
    "# Output: ['no' 'no' 'yes' 'yes' 'yes']"
   ]
  },
  {
   "cell_type": "markdown",
   "id": "e3b4420a-37a8-41d3-9419-e2f026af41c5",
   "metadata": {},
   "source": [
    "The `np.where` function is commonly used in various scenarios, such as filtering elements, replacing values based on a condition, or extracting specific values from an array. It is a powerful tool for handling conditional logic in NumPy arrays efficiently. For example, when you need to replace values that meet a specific condition in an element-wise approach."
   ]
  },
  {
   "cell_type": "code",
   "execution_count": 10,
   "id": "433b3926-bc3b-4f00-b2d5-6adc2e611473",
   "metadata": {},
   "outputs": [
    {
     "name": "stdout",
     "output_type": "stream",
     "text": [
      "arr1:\n",
      "[-0.85609128  0.23167651 -2.31080506 -0.36383166 -0.60599716  1.87510594\n",
      " -0.61824908  0.16085855  0.83738872  0.9641417   0.94015795 -0.08454398\n",
      "  0.32801436 -0.0095216  -0.13326824 -0.3008317  -1.47675675 -1.02470467\n",
      "  1.77132779  0.46933541 -1.05733676 -0.42541446 -1.00274917  0.06469729\n",
      "  0.63904664  0.582866    0.27299045 -0.14409086  1.05374282 -1.0920206\n",
      "  1.23854247 -1.41771335  0.65760157 -0.66547308  0.00755348 -0.40568704\n",
      "  0.04248532 -0.27716081 -1.26107849  2.2109084  -1.81068017 -0.92867556\n",
      " -1.31500909  0.32576535 -0.8496571  -0.49279385 -2.3663541  -0.06594835\n",
      " -0.68604195 -0.51253558]\n",
      "\n",
      "arr2:\n",
      "[ 1.95612698  0.14375831  1.78835323  0.38984066 -0.37589973 -0.6192201\n",
      "  1.37091637  1.80383474  0.88071428  0.77699402 -1.09453459  1.17150596\n",
      " -0.37755038 -0.14418398 -1.08749931  0.29437918  1.18217651  0.36391649\n",
      "  1.38681743  0.17297428 -0.25058771  1.25549396  1.82362427  0.46886597\n",
      " -0.92312863 -0.17492583  1.60178535  0.66897183  0.29979577 -0.75588502\n",
      "  0.46374583 -0.29828564 -1.55391009 -1.44248082  0.10277457 -1.28593311\n",
      "  1.20613598 -0.03205762  0.41047171  0.45731583 -0.74083753 -0.36005183\n",
      " -0.44990374  0.68767933 -1.2749908   0.32597921  0.59806029  1.16550933\n",
      " -0.05293513  0.72797401]\n",
      "\n",
      "arr1 values lesser than arr2 are replaced with arr2 values:\n",
      "[ 1.95612698  0.23167651  1.78835323  0.38984066 -0.37589973  1.87510594\n",
      "  1.37091637  1.80383474  0.88071428  0.9641417   0.94015795  1.17150596\n",
      "  0.32801436 -0.0095216  -0.13326824  0.29437918  1.18217651  0.36391649\n",
      "  1.77132779  0.46933541 -0.25058771  1.25549396  1.82362427  0.46886597\n",
      "  0.63904664  0.582866    1.60178535  0.66897183  1.05374282 -0.75588502\n",
      "  1.23854247 -0.29828564  0.65760157 -0.66547308  0.10277457 -0.40568704\n",
      "  1.20613598 -0.03205762  0.41047171  2.2109084  -0.74083753 -0.36005183\n",
      " -0.44990374  0.68767933 -0.8496571   0.32597921  0.59806029  1.16550933\n",
      " -0.05293513  0.72797401]\n",
      "\n"
     ]
    }
   ],
   "source": [
    "# Generate two 5x5 arrays of random normal values\n",
    "arr1 = np.random.normal(size=(50))\n",
    "arr2 = np.random.normal(size=(50))\n",
    "\n",
    "# Print the generated arrays\n",
    "print(f\"arr1:\\n{arr1}\\n\")\n",
    "print(f\"arr2:\\n{arr2}\\n\")\n",
    "\n",
    "# Use np.where to create a new array with values from arr1 or arr2 based on a condition\n",
    "arr_r = np.where(arr1 > arr2, arr1, arr2)\n",
    "\n",
    "print(f\"arr1 values lesser than arr2 are replaced with arr2 values:\\n{arr_r}\\n\")"
   ]
  },
  {
   "cell_type": "code",
   "execution_count": 11,
   "id": "1ba0292a-d9f6-4711-84b3-1cd53e83cf6c",
   "metadata": {},
   "outputs": [
    {
     "data": {
      "image/png": "[encoded data removed]",
      "text/plain": [
       "<Figure size 2000x500 with 2 Axes>"
      ]
     },
     "metadata": {},
     "output_type": "display_data"
    }
   ],
   "source": [
    "import matplotlib.pyplot as plt\n",
    "\n",
    "plt.rcParams['figure.figsize'] = [20, 5]\n",
    "\n",
    "# Create subplots with 1 row and 2 columns\n",
    "fig, axs = plt.subplots(nrows=1, ncols=2)\n",
    "\n",
    "# Plot arr1 on the first subplot (axs[0])\n",
    "axs[0].plot(arr1, label='arr1', color='blue')\n",
    "\n",
    "# Plot arr2 on the second subplot (axs[1])\n",
    "axs[1].plot(arr2, alpha=0.5, label='arr2', color='green')\n",
    "\n",
    "# Plot arr_r on both subplots to visualize arr1>arr2 condition\n",
    "axs[0].plot(arr_r, alpha=1, label='arr1>arr2', color='red')\n",
    "axs[1].plot(arr_r, alpha=1, label='arr1>arr2', color='red')\n",
    "\n",
    "# Add legend to each subplot\n",
    "axs[0].legend(loc='upper right')\n",
    "axs[1].legend(loc='upper right')\n",
    "\n",
    "# Display the plots\n",
    "plt.show()"
   ]
  },
  {
   "cell_type": "markdown",
   "id": "9ff91125-caf7-45f4-924d-1b1503133e12",
   "metadata": {},
   "source": [
    "## Indexing and slicing"
   ]
  },
  {
   "cell_type": "markdown",
   "id": "251da7bd-4419-4cd2-9409-9c1e38ed423d",
   "metadata": {},
   "source": [
    "Indexing and slicing are essential operations when working with NumPy ndarrays. They allow you to access and manipulate specific elements or portions of an array. Here's an explanation of indexing and slicing in NumPy:\n",
    "\n",
    "### Indexing\n",
    "\n",
    "1. **Single Element Access:**\n",
    "   - You can access a single element in a 1D array using an index.\n",
    "\n",
    "     ```python\n",
    "     import numpy as np\n",
    "\n",
    "     arr = np.array([1, 2, 3, 4, 5])\n",
    "     print(arr[2])  # Output: 3 (indexing starts from 0)\n",
    "     ```\n",
    "\n",
    "2. **Multidimensional Arrays:**\n",
    "   - For a 2D array, use a pair of indices (row and column).\n",
    "\n",
    "     ```python\n",
    "     arr_2d = np.array([[1, 2, 3], [4, 5, 6]])\n",
    "     print(arr_2d[1, 2])  # Output: 6 (row 1, column 2)\n",
    "     ```\n",
    "\n",
    "### Slicing\n",
    "\n",
    "1. **1D Array Slicing:**\n",
    "   - Use the colon `:` to slice a range of elements.\n",
    "\n",
    "     ```python\n",
    "     arr = np.array([1, 2, 3, 4, 5])\n",
    "     print(arr[1:4])  # Output: [2, 3, 4]\n",
    "     ```\n",
    "\n",
    "2. **Multidimensional Array Slicing:**\n",
    "   - Use commas to separate slices along different dimensions.\n",
    "\n",
    "     ```python\n",
    "     arr_2d = np.array([[1, 2, 3], [4, 5, 6]])\n",
    "     print(arr_2d[:, 1:3])  # Output: [[2, 3], [5, 6]] (all rows, columns 1 to 2)\n",
    "     ```\n",
    "\n",
    "3. **Slicing with Strides:**\n",
    "   - Use an additional colon with a step value to include elements with a specific stride.\n",
    "\n",
    "     ```python\n",
    "     arr = np.array([1, 2, 3, 4, 5])\n",
    "     print(arr[::2])  # Output: [1, 3, 5] (elements with a step of 2)\n",
    "     ```\n",
    "\n",
    "4. **Negative Indices:**\n",
    "   - Use negative indices to count from the end of the array.\n",
    "\n",
    "     ```python\n",
    "     arr = np.array([1, 2, 3, 4, 5])\n",
    "     print(arr[-2:])  # Output: [4, 5] (last two elements)\n",
    "     ```\n",
    "5. **Select all elements:**\n",
    "   - Use `:` to select all elements of the array.\n",
    "     ```python\n",
    "     arr = np.array([1, 2, 3, 4, 5])\n",
    "     print(arr[:]) # Output: [1, 2, 3, 4, 5] (all the elements)\n",
    "     ```\n",
    "\n",
    "Indexing and slicing in NumPy provide a flexible and powerful way to access and manipulate array elements, making it easier to work with large datasets and perform various operations efficiently."
   ]
  },
  {
   "cell_type": "code",
   "execution_count": 12,
   "id": "4b97ba8b-1f2b-4d22-b8a3-2149a452f2ce",
   "metadata": {},
   "outputs": [
    {
     "name": "stdout",
     "output_type": "stream",
     "text": [
      "[ 1  3  5  5  5 17 88]\n"
     ]
    }
   ],
   "source": [
    "my_arr = np.array([1,3,22,10,9,17,88])\n",
    "# Slicing and assignment\n",
    "my_arr[2:5] = 5\n",
    "print(my_arr)"
   ]
  },
  {
   "cell_type": "markdown",
   "id": "e23ebc56-496a-491c-bb1b-be6685d68363",
   "metadata": {},
   "source": [
    "In the provided code, you are using slicing to select elements at indices 2 to 4 (excluding 5) in the NumPy array `my_arr` and then assigning the value 5 to those selected elements. As you can see, the elements at indices 2, 3, and 4 have been replaced with the value 5. The assignment modifies the original array in-place. Instead, use`ndarray.copy()` function if you want a copy of slice."
   ]
  },
  {
   "cell_type": "code",
   "execution_count": 13,
   "id": "2b8e3844-8ebc-4cd3-a820-798668d5876a",
   "metadata": {},
   "outputs": [
    {
     "name": "stdout",
     "output_type": "stream",
     "text": [
      "[1 3 5]\n"
     ]
    }
   ],
   "source": [
    "my_arr_copy = my_arr[0:3]\n",
    "print(my_arr_copy)"
   ]
  },
  {
   "cell_type": "markdown",
   "id": "591dc8f4-9f34-460d-b0c0-f73750aad8b5",
   "metadata": {},
   "source": [
    "### Multidimensional indexing and slicing\n",
    "\n",
    "With a higher-dimensional NumPy array, it is possible to recursively access single elements within the array using appropriate indexing."
   ]
  },
  {
   "cell_type": "code",
   "execution_count": 14,
   "id": "ede06dd1-28f9-427a-8f1d-3bc985d31ab8",
   "metadata": {},
   "outputs": [
    {
     "name": "stdout",
     "output_type": "stream",
     "text": [
      "The shape of my array: (3, 5, 3)\n",
      "\n",
      "My higher-dimensional array\n",
      " [[[ 0.05370435  0.13637828 -0.13428152]\n",
      "  [-0.32983527  0.36825068 -0.3978332 ]\n",
      "  [ 0.51670407  0.62620465  0.15716667]\n",
      "  [-0.00290726  0.8516427  -0.02518488]\n",
      "  [ 1.42881542 -1.17905771 -0.94967044]]\n",
      "\n",
      " [[ 0.39139147  1.15855612 -0.74236029]\n",
      "  [ 0.48876227  0.64882493  1.63628912]\n",
      "  [ 0.7521955   1.44572601 -0.55382499]\n",
      "  [ 0.39544338 -1.43692906 -0.32093711]\n",
      "  [ 0.48626772  0.8957423  -0.05965874]]\n",
      "\n",
      " [[-1.34463453  0.9949778  -0.56659235]\n",
      "  [-2.04499478 -0.41007428  1.29013221]\n",
      "  [ 0.72886801  0.47214794 -0.00572306]\n",
      "  [ 1.6037756  -1.74330482  1.6797333 ]\n",
      "  [-0.99728775  1.31245928 -2.46482536]]]\n",
      "\n",
      "The second element of my higher-dimensional array:\n",
      " [[ 0.39139147  1.15855612 -0.74236029]\n",
      " [ 0.48876227  0.64882493  1.63628912]\n",
      " [ 0.7521955   1.44572601 -0.55382499]\n",
      " [ 0.39544338 -1.43692906 -0.32093711]\n",
      " [ 0.48626772  0.8957423  -0.05965874]]\n",
      "\n",
      "The last column of the 2nd row of the 2nd element of my higher-dimensional array:\n",
      " 1.636289121526654\n",
      "\n",
      "The last column of the 2nd row of the 2nd element of my higher-dimensional array:\n",
      " 1.636289121526654\n"
     ]
    }
   ],
   "source": [
    "# Higher-dimensional NumPy array indexing and slicing example\n",
    "\n",
    "# Generate an array of a given shape containing normal values\n",
    "my_arr = np.random.normal(size=(3,5,3))\n",
    "print(f\"The shape of my array: {my_arr.shape}\\n\")\n",
    "\n",
    "print(\"My higher-dimensional array\\n\", my_arr)\n",
    "\n",
    "# Accessing to the second element of my matrix\n",
    "print(\"\\nThe second element of my higher-dimensional array:\\n\", my_arr[1])\n",
    "\n",
    "# Accessing last column of the 2nd row of the second element of my matrix\n",
    "print(\"\\nThe last column of the 2nd row of the 2nd element of my higher-dimensional array:\\n\", my_arr[1, 1, -1])\n",
    "\n",
    "# Less intuitive and more human-resource expensive\n",
    "print(\"\\nThe last column of the 2nd row of the 2nd element of my higher-dimensional array:\\n\", my_arr[1][1][-1])"
   ]
  },
  {
   "cell_type": "markdown",
   "id": "55cb1396-77f1-4d4f-b32c-39ad7cf03fde",
   "metadata": {},
   "source": [
    "The last two print statements show two equivalent ways of accessing the same element in the array, with the first being more concise and generally preferred."
   ]
  },
  {
   "cell_type": "markdown",
   "id": "3adcc3a4-3b7d-4a18-a41a-7185d60d5a14",
   "metadata": {},
   "source": [
    "### Boolean indexing\n",
    "\n",
    "Boolean indexing in NumPy refers to the practice of using Boolean arrays or conditions to index, filter, or select elements from a NumPy array based on a specified condition. The resulting array consists of elements from the original array that satisfy the given condition.\n",
    "\n",
    "Here's a simple example to illustrate boolean indexing:\n",
    "\n",
    "```python\n",
    "import numpy as np\n",
    "\n",
    "# Create a NumPy array\n",
    "arr = np.array([1, 2, 3, 4, 5])\n",
    "\n",
    "# Define a boolean condition\n",
    "condition = (arr > 2)\n",
    "\n",
    "# Use boolean indexing to select elements satisfying the condition\n",
    "result = arr[condition]\n",
    "\n",
    "print(\"Original array:\", arr)\n",
    "print(\"Boolean condition:\", condition)\n",
    "print(\"Result after boolean indexing:\", result)\n",
    "```\n",
    "\n",
    "In this example, `condition` is a boolean array where each element is `True` if the corresponding element in `arr` is greater than 2 and `False` otherwise. The `arr[condition]` statement then selects only the elements of `arr` where the condition is `True`. The output will be:\n",
    "\n",
    "```\n",
    "Original array: [1 2 3 4 5]\n",
    "Boolean condition: [False False  True  True  True]\n",
    "Result after boolean indexing: [3 4 5]\n",
    "```\n",
    "\n",
    "Boolean indexing is powerful and flexible, allowing you to create complex conditions for selecting elements. It is commonly used in data manipulation and filtering operations, where you want to extract specific subsets of data based on certain criteria."
   ]
  },
  {
   "cell_type": "code",
   "execution_count": 15,
   "id": "72ba7ce0-2138-497c-8ea3-317acd61c32a",
   "metadata": {},
   "outputs": [
    {
     "name": "stdout",
     "output_type": "stream",
     "text": [
      "Who is more or equal than 18? ['Joe' 'Erik']\n",
      "Who is exactly 7? ['Marco' 'Laura']\n",
      "Who is more than 6 but less than 18? ['Tom' 'Marco' 'Laura']\n",
      "Who is less than 8 or more than 18? ['Marco' 'Laura' 'Erik']\n"
     ]
    }
   ],
   "source": [
    "# Create a NumPy array 'names' containing names\n",
    "names = np.array(['Tom', 'Joe', 'Marco', 'Laura', 'Erik'])\n",
    "\n",
    "# Create a NumPy array 'ages' containing corresponding ages\n",
    "ages = np.array([15, 18, 7, 7, 21])\n",
    "\n",
    "# Display names of individuals with ages greater than or equal to 18\n",
    "print(\"Who is more or equal than 18?\", names[ages >= 18])\n",
    "\n",
    "# Display names of individuals with ages exactly equal to 7\n",
    "print(\"Who is exactly 7?\", names[ages == 7])\n",
    "\n",
    "# Display names of individuals with ages more than 6 but less than 18\n",
    "print(\"Who is more than 6 but less than 18?\", names[(ages > 6) & (ages < 18)])\n",
    "\n",
    "# Display names of individuals with ages less than 8 or more than 18\n",
    "print(\"Who is less than 8 or more than 18?\", names[(ages > 18) | (ages < 8)])"
   ]
  },
  {
   "cell_type": "markdown",
   "id": "56408548-d58c-440e-8abf-b1ef0b4ec32b",
   "metadata": {},
   "source": [
    "### Fancy indexing\n",
    "\n",
    "Fancy indexing refers to the technique of using arrays of indices (or other index arrays) to access and manipulate elements in an array. Unlike basic indexing, which involves specifying single indices or slices, fancy indexing allows you to use arrays of indices to achieve more complex and selective operations on the original array."
   ]
  },
  {
   "cell_type": "code",
   "execution_count": 16,
   "id": "02a8d70b-2e8a-4527-b965-ce07229706f5",
   "metadata": {},
   "outputs": [
    {
     "name": "stdout",
     "output_type": "stream",
     "text": [
      "[2 4 5]\n"
     ]
    }
   ],
   "source": [
    "# Create an array\n",
    "arr = np.array([1, 2, 3, 4, 5])\n",
    "\n",
    "# Using a list of indices for fancy indexing\n",
    "indices = [1, 3, 4]\n",
    "result = arr[indices]\n",
    "\n",
    "print(result)"
   ]
  },
  {
   "cell_type": "markdown",
   "id": "04321c6d-41e4-4f34-9792-03a1ef1daf1d",
   "metadata": {},
   "source": [
    "In this example, the `indices` list `[1, 3, 4]` is used for fancy indexing. The resulting `result` array contains the elements at the specified indices `[1, 3, 4]` from the original array `arr`. The output will be `[2, 4, 5]`.\n",
    "\n",
    "Fancy indexing is not limited to one-dimensional arrays; it can be applied to multidimensional arrays as well. You can use boolean arrays or integer arrays as indices to select specific rows, columns, or elements based on certain conditions."
   ]
  },
  {
   "cell_type": "code",
   "execution_count": 17,
   "id": "c26385dc-3f7c-4c35-8a56-e1bf51d1b4eb",
   "metadata": {},
   "outputs": [
    {
     "name": "stdout",
     "output_type": "stream",
     "text": [
      "Random Array:\n",
      " [[4.95708208 5.03231763 5.03188838 5.08299585 5.03776809]\n",
      " [5.00794086 4.95281786 5.01395955 4.94488303 4.99236363]\n",
      " [4.99501639 5.05233566 4.95421105 5.00044211 4.97846547]\n",
      " [5.05859155 4.89875196 5.02338825 5.00585247 5.05526634]\n",
      " [4.94796964 5.06293607 4.94330344 4.96294877 5.05310519]\n",
      " [4.96152182 4.99616601 4.97928056 5.03836952 5.04160117]\n",
      " [5.00105687 4.95247234 4.99987431 4.98250002 4.97239816]\n",
      " [5.05623817 4.99138024 5.0653398  4.94545831 4.94509739]\n",
      " [4.97516073 4.94118755 5.06628567 5.03015829 5.00694708]\n",
      " [4.99569532 5.05694495 5.00338532 4.9735186  4.9693594 ]]\n"
     ]
    }
   ],
   "source": [
    "# Generate a 2D array with random normal values\n",
    "rnorm_array = np.random.normal(loc=5, scale=0.05, size=(10, 5))\n",
    "\n",
    "# Display the generated random array\n",
    "print(\"Random Array:\\n\", rnorm_array)"
   ]
  },
  {
   "cell_type": "code",
   "execution_count": 18,
   "id": "98d1c91f-b7c0-464b-9f07-c25f282bfb31",
   "metadata": {},
   "outputs": [
    {
     "name": "stdout",
     "output_type": "stream",
     "text": [
      "Selected rows using fancy indexing:\n",
      " [[5.00794086 4.95281786 5.01395955 4.94488303 4.99236363]\n",
      " [5.05859155 4.89875196 5.02338825 5.00585247 5.05526634]]\n",
      "\n",
      "Access to specific elements of the selected rows (first column):\n",
      " [5.00794086 5.05859155]\n",
      "\n",
      "Access to specific elements of the selected rows (first and second columns):\n",
      " [5.00794086 4.89875196]\n",
      "\n",
      "Access to specific elements of the selected rows (columns 4, 1, and 3):\n",
      " [[4.99236363 4.95281786 4.94488303]\n",
      " [5.05526634 4.89875196 5.00585247]]\n"
     ]
    }
   ],
   "source": [
    "# Using fancy indexing to select specific rows (rows at indices 1 and 3)\n",
    "print(\"Selected rows using fancy indexing:\\n\", rnorm_array[[1, 3]])\n",
    "\n",
    "# Access specific elements of the selected rows (first column of rows at indices 1 and 3)\n",
    "print(\"\\nAccess to specific elements of the selected rows (first column):\\n\", rnorm_array[[1, 3], 0])\n",
    "\n",
    "# Access specific elements of the selected rows (first and second columns of rows at indices 1 and 3)\n",
    "print(\"\\nAccess to specific elements of the selected rows (first and second columns):\\n\", rnorm_array[[1, 3], [0, 1]])\n",
    "\n",
    "# Access specific elements of the selected rows (columns at indices 4, 1, and 3 of rows at indices 1 and 3)\n",
    "print(\"\\nAccess to specific elements of the selected rows (columns 4, 1, and 3):\\n\", rnorm_array[[1, 3]][:, [4, 1, 3]])"
   ]
  },
  {
   "cell_type": "markdown",
   "id": "b2edcc80-addf-47b2-854f-1da2b6726aa0",
   "metadata": {},
   "source": [
    "## Transposing axes and array reshaping\n",
    "\n",
    "Transposing is a peculiar form of reshaping an array: it transposes rows with columns and vice versa."
   ]
  },
  {
   "cell_type": "code",
   "execution_count": 19,
   "id": "2b780643-faf1-4ca0-973e-476fdbccdf07",
   "metadata": {},
   "outputs": [
    {
     "name": "stdout",
     "output_type": "stream",
     "text": [
      "Original array:\n",
      "[[ 1.09351861 -0.43224001]\n",
      " [-1.70162217  0.00217034]\n",
      " [ 0.75422009  0.16433253]\n",
      " [-0.44194426  0.40646516]]\n",
      "\n",
      "Transpose using .T attribute:\n",
      "[[ 1.09351861 -1.70162217  0.75422009 -0.44194426]\n",
      " [-0.43224001  0.00217034  0.16433253  0.40646516]]\n",
      "\n",
      "In-place transpose using transpose() method:\n",
      "[[ 1.09351861 -1.70162217  0.75422009 -0.44194426]\n",
      " [-0.43224001  0.00217034  0.16433253  0.40646516]]\n"
     ]
    }
   ],
   "source": [
    "arr = np.random.normal(size=(4, 2))\n",
    "print(\"Original array:\")\n",
    "print(arr)\n",
    "\n",
    "print(\"\\nTranspose using .T attribute:\")\n",
    "print(arr.T)\n",
    "\n",
    "arr = arr.transpose()\n",
    "print(\"\\nIn-place transpose using transpose() method:\")\n",
    "print(arr)"
   ]
  },
  {
   "cell_type": "markdown",
   "id": "9bb6f95f-e22f-4f88-b9d6-d9c7c42b83cb",
   "metadata": {},
   "source": [
    "Array reshaping is a fundamental operation that allows you to change the shape (dimensions) of an array without changing the actual data it contains. The `reshape()` function is commonly used for this purpose. Here's a brief explanation of how array reshaping works in NumPy:\n",
    "\n",
    "```python\n",
    "# Create an array\n",
    "original_array = np.array([1, 2, 3, 4, 5, 6])\n",
    "\n",
    "# Reshape the array\n",
    "reshaped_array = original_array.reshape(new_shape)\n",
    "```"
   ]
  },
  {
   "cell_type": "code",
   "execution_count": 20,
   "id": "e4273937-6e22-4e71-81e8-566791330d5b",
   "metadata": {},
   "outputs": [
    {
     "name": "stdout",
     "output_type": "stream",
     "text": [
      "Original Array:\n",
      "[ 0  1  2  3  4  5  6  7  8  9 10 11]\n",
      "\n",
      "Reshaped Array:\n",
      "[[ 0  1  2  3]\n",
      " [ 4  5  6  7]\n",
      " [ 8  9 10 11]]\n"
     ]
    }
   ],
   "source": [
    "# Create a one-dimensional array with 12 elements\n",
    "original_array = np.arange(12)\n",
    "\n",
    "# Reshape the array to a 3x4 two-dimensional array\n",
    "reshaped_array = original_array.reshape((3, 4))\n",
    "\n",
    "print(\"Original Array:\")\n",
    "print(original_array)\n",
    "print(\"\\nReshaped Array:\")\n",
    "print(reshaped_array)"
   ]
  },
  {
   "cell_type": "markdown",
   "id": "608166f6-3e36-4192-828c-7811e8ac22df",
   "metadata": {},
   "source": [
    "In this example, `original_array` is reshaped into a 3x4 array. The total number of elements in the original array (12 in this case) must be compatible with the desired shape (3x4, in this case).\n",
    "\n",
    "Important points:\n",
    "\n",
    "1. **Compatibility of Total Elements:** The total number of elements in the original array must be equal to the total number of elements in the reshaped array. This ensures that no data is lost or added during the reshaping process.\n",
    "2. **Use of -1 in Shape:** If you specify one of the dimensions as -1, NumPy automatically calculates the size of that dimension based on the size of the original array. For example:\n",
    "    ```python\n",
    "    reshaped_array = original_array.reshape((3, -1))\n",
    "    ```\n",
    "3. **In-Place Reshaping:** You can also use the `resize()` method to perform in-place reshaping. This method modifies the shape of the array without returning a new array:\n",
    "    ```python\n",
    "    original_array.resize((3, 4))\n",
    "    ```\n",
    "Array reshaping is useful in various scenarios, such as preparing data for specific algorithms, working with different dimensionalities, or interfacing with functions that expect specific array shapes."
   ]
  },
  {
   "cell_type": "markdown",
   "id": "0e8b9a6c-0c60-4507-ac6a-6e0e93adadee",
   "metadata": {},
   "source": [
    "## Dot product\n",
    "\n",
    "The dot product is a mathematical operation that takes two equal-length sequences of numbers (usually coordinate vectors) and returns a single number. In the context of vectors, the dot product is also known as the inner product or scalar product. It is denoted by a dot symbol (`·`) or sometimes by juxtaposition.\n",
    "\n",
    "For two vectors A and B with components $A = [a₁, a₂, ..., aₙ]$ and $B = [b₁, b₂, ..., bₙ]$, the dot product $(A · B)$ is calculated as:\n",
    "\n",
    "$A \\cdot B = a₁ * b₁ + a₂ * b₂ + \\ldots + aₙ * bₙ $\n",
    "\n",
    "In other words, it involves multiplying corresponding elements of the vectors and summing up the results. The dot product yields a scalar (single number) as a result.\n",
    "\n",
    "Here are a few key properties and applications of the dot product:\n",
    "\n",
    "1. **Commutativity:** $A · B = B · A$\n",
    "2. **Distributivity over addition:** $A · (B + C) = A · B + A · C$\n",
    "3. **Scalar multiplication:** $(cA) · B = c(A · B)$, where c is a scalar.\n",
    "4. **Angle between vectors:** The dot product is related to the cosine of the angle $( \\theta)$ between two vectors $A$ and $B$: $ A \\cdot B = \\|A\\| \\|B\\| \\cos(\\theta) $.\n",
    "\n",
    "In the context of linear algebra and vector spaces, the dot product has various applications, including calculating angles, finding projections, and solving systems of linear equations. In machine learning, the dot product is often used in algorithms involving vectors and matrices, such as in neural networks and linear regression.\n",
    "\n",
    "`np.dot` is a NumPy function that performs matrix multiplication or dot product of two arrays. It has different behaviors depending on the dimensions of the input arrays."
   ]
  },
  {
   "cell_type": "markdown",
   "id": "6da15239-0243-4b46-9b60-9baae3352468",
   "metadata": {},
   "source": [
    "For 1-D arrays, it performs the inner product (dot product) of vectors:"
   ]
  },
  {
   "cell_type": "code",
   "execution_count": 21,
   "id": "c29c060f-7367-4b15-b898-4d47b9383e5d",
   "metadata": {},
   "outputs": [
    {
     "name": "stdout",
     "output_type": "stream",
     "text": [
      "32\n"
     ]
    }
   ],
   "source": [
    "# Create two 1-D NumPy arrays\n",
    "a = np.array([1, 2, 3])\n",
    "b = np.array([4, 5, 6])\n",
    "\n",
    "# Perform the dot product (inner product) of the two arrays\n",
    "result = np.dot(a, b)\n",
    "\n",
    "# Print the result\n",
    "print(result)  # Output: 32 (1*4 + 2*5 + 3*6)"
   ]
  },
  {
   "cell_type": "markdown",
   "id": "0cbf9b01-e97a-4a93-9e56-c6690625b4e5",
   "metadata": {},
   "source": [
    "- `a` and `b` are created as 1-D NumPy arrays with values `[1, 2, 3]` and `[4, 5, 6]` respectively.\n",
    "- `np.dot(a, b)` calculates the dot product of the two arrays. In this case, it computes `1*4 + 2*5 + 3*6`, resulting in `32`.\n",
    "- The result is then printed, and the output comment clarifies the value obtained from the dot product operation."
   ]
  },
  {
   "cell_type": "markdown",
   "id": "3c304196-5b70-4fa5-9fc3-204c87ff313a",
   "metadata": {},
   "source": [
    "For 2-D arrays, it performs matrix multiplication:"
   ]
  },
  {
   "cell_type": "code",
   "execution_count": 22,
   "id": "4d19d21d-d0f4-4047-9078-f9a517a5b7ad",
   "metadata": {},
   "outputs": [
    {
     "name": "stdout",
     "output_type": "stream",
     "text": [
      "[[5 0 3]\n",
      " [3 7 9]\n",
      " [3 5 2]] \n",
      "\n",
      "[[4 7]\n",
      " [6 8]\n",
      " [8 1]] \n",
      "\n",
      "[[ 44  38]\n",
      " [126  86]\n",
      " [ 58  63]]\n"
     ]
    }
   ],
   "source": [
    "# Create two 2-D NumPy arrays (matrices)\n",
    "matrix_a = np.array([[5, 0, 3], [3, 7, 9], [3, 5, 2]])\n",
    "matrix_b = np.array([[4, 7], [6, 8], [8,1]])\n",
    "\n",
    "print(matrix_a, \"\\n\")\n",
    "print(matrix_b, \"\\n\")\n",
    "\n",
    "# Perform matrix multiplication using np.dot\n",
    "result_matrix = np.dot(matrix_a, matrix_b)\n",
    "\n",
    "# Print the result matrix\n",
    "print(result_matrix)"
   ]
  },
  {
   "cell_type": "markdown",
   "id": "347b905a-2880-426d-99f2-3a87ca1e1d6b",
   "metadata": {},
   "source": [
    "- `matrix_a` and `matrix_b`: Create two 2-D NumPy arrays representing matrices.\n",
    "- `np.dot(matrix_a, matrix_b)`: Use the `np.dot` function to perform matrix multiplication of `matrix_a` and `matrix_b`. In this case, it computes `5*4+0*3+3*8=44`, `5*7+0*8+3*1=38`,  `3*4+7*6+9*8=126`, `3*7+7*8+9*1=86`, `3*4+5*6+2*8=58` and `3*7+5*8+2*1=63`.\n",
    "- `result_matrix`: Store the result of the matrix multiplication in the variable `result_matrix`.\n",
    "\n",
    "This code demonstrates the use of NumPy for matrix operations, specifically matrix multiplication using `np.dot`. The resulting matrix is then printed for inspection."
   ]
  },
  {
   "cell_type": "markdown",
   "id": "207b8f57-7eda-48c2-9f4f-78a87ef99d71",
   "metadata": {},
   "source": [
    "For arrays with more than two dimensions, it is a sum product over the last axis of `a` and the second-to-last axis of `b`:"
   ]
  },
  {
   "cell_type": "code",
   "execution_count": 23,
   "id": "b89679e1-8ee8-4916-9aef-cf42097485f9",
   "metadata": {},
   "outputs": [
    {
     "name": "stdout",
     "output_type": "stream",
     "text": [
      "[[[[0.89005742 0.71429301 0.81001459 1.44219233 1.11498455]\n",
      "   [1.38539048 1.53277159 1.08368795 1.42158376 1.32947449]]\n",
      "\n",
      "  [[0.85471784 0.65124272 0.62659151 0.68273886 0.48703734]\n",
      "   [0.74137283 0.74211753 0.45764516 0.77959983 0.73308533]]\n",
      "\n",
      "  [[1.05882082 0.72350041 0.6020605  0.70554809 0.32252469]\n",
      "   [0.78901416 0.66647932 0.27788699 0.79521103 0.74861399]]]\n",
      "\n",
      "\n",
      " [[[1.24188975 0.86817913 1.04344676 0.78925241 1.12176139]\n",
      "   [0.86646774 0.94994352 0.95717349 1.21234199 0.83777233]]\n",
      "\n",
      "  [[0.95500505 0.8702025  0.89657066 0.44967209 0.54242718]\n",
      "   [0.59340467 0.7055768  0.53999711 0.68780007 0.68497369]]\n",
      "\n",
      "  [[1.65024313 1.14695922 1.21823706 1.18280277 1.16208374]\n",
      "   [1.27876813 1.28257176 1.00645318 1.54614242 1.22220848]]]]\n"
     ]
    }
   ],
   "source": [
    "# 3-D arrays\n",
    "array_a = np.random.rand(2, 3, 4)\n",
    "array_b = np.random.rand(2, 4, 5)\n",
    "\n",
    "result_array = np.dot(array_a, array_b)\n",
    "print(result_array)"
   ]
  },
  {
   "cell_type": "markdown",
   "id": "8e1ccd87-7145-4d16-9439-356325ba569e",
   "metadata": {},
   "source": [
    "The `@` symbol can also be used for matrix multiplication in Python 3.5 and later:\n",
    "```python\n",
    "result_matrix_alternative = matrix_a @ matrix_b\n",
    "```\n",
    "\n",
    "It's important to note that the dimensions of the arrays must be compatible for the dot product to be defined. Specifically, the inner dimension of the first array must match the outer dimension of the second array.\n",
    "\n",
    "In machine learning and linear algebra, `np.dot` is commonly used for operations involving vectors and matrices."
   ]
  },
  {
   "cell_type": "markdown",
   "id": "f5c2a13a-e33e-4e53-8d98-235d06903577",
   "metadata": {},
   "source": [
    "## Set operations"
   ]
  },
  {
   "cell_type": "markdown",
   "id": "c7ce5ce7-a521-4672-8939-18199d141e40",
   "metadata": {},
   "source": [
    "In NumPy, set operations refer to operations that involve combining or manipulating unique elements in arrays. These operations are useful when working with arrays of unique values or when you want to perform operations similar to set operations in mathematics. NumPy provides several functions for set operations, and here are some common ones:\n",
    "\n",
    "- `np.unique` returns the sorted unique elements of an array.\n",
    "- `np.intersect1d` returns the sorted common elements between two arrays.\n",
    "- `np.union1d` returns the sorted union of unique elements from two arrays.\n",
    "- `np.setdiff1d` returns the sorted set difference (elements in `arr1` but not in `arr2`).\n",
    "- `np.setxor1d` returns the sorted symmetric difference (elements that are unique to each array)."
   ]
  },
  {
   "cell_type": "code",
   "execution_count": 24,
   "id": "2b8f141c-abce-4b49-8f2a-56067d72b230",
   "metadata": {},
   "outputs": [
    {
     "name": "stdout",
     "output_type": "stream",
     "text": [
      "Unique values in the array: [1 2 3 4 5]\n",
      "Common elements between arr1 and arr2: [3 4]\n",
      "Union of unique elements from arr1 and arr2: [1 2 3 4 5 6]\n",
      "Set difference (elements in arr1 but not in arr2): [1 2]\n",
      "Symmetric difference (elements unique to each array): [1 2 5 6]\n"
     ]
    }
   ],
   "source": [
    "# Example 1: Finding unique values in an array\n",
    "arr = np.array([1, 2, 2, 3, 4, 4, 5])\n",
    "unique_values = np.unique(arr)\n",
    "print(\"Unique values in the array:\", unique_values)\n",
    "\n",
    "# Example 2: Finding common elements between two arrays\n",
    "arr1 = np.array([1, 2, 3, 4])\n",
    "arr2 = np.array([3, 4, 5, 6])\n",
    "common_elements = np.intersect1d(arr1, arr2)\n",
    "print(\"Common elements between arr1 and arr2:\", common_elements)\n",
    "\n",
    "# Example 3: Finding the union of unique elements from two arrays\n",
    "arr1 = np.array([1, 2, 3, 4])\n",
    "arr2 = np.array([3, 4, 5, 6])\n",
    "union_elements = np.union1d(arr1, arr2)\n",
    "print(\"Union of unique elements from arr1 and arr2:\", union_elements)\n",
    "\n",
    "# Example 4: Finding the set difference (elements in arr1 but not in arr2)\n",
    "arr1 = np.array([1, 2, 3, 4])\n",
    "arr2 = np.array([3, 4, 5, 6])\n",
    "difference_elements = np.setdiff1d(arr1, arr2)\n",
    "print(\"Set difference (elements in arr1 but not in arr2):\", difference_elements)\n",
    "\n",
    "# Example 5: Finding the symmetric difference (elements unique to each array)\n",
    "arr1 = np.array([1, 2, 3, 4])\n",
    "arr2 = np.array([3, 4, 5, 6])\n",
    "symmetric_difference = np.setxor1d(arr1, arr2)\n",
    "print(\"Symmetric difference (elements unique to each array):\", symmetric_difference)"
   ]
  },
  {
   "cell_type": "markdown",
   "id": "69518ad4-d61a-4507-a8e9-b5143ebc1f0b",
   "metadata": {},
   "source": [
    "These set operations in NumPy are efficient and provide a convenient way to perform operations on arrays with unique elements. They are especially useful in scenarios where you want to find common elements, unique elements, or differences between arrays."
   ]
  },
  {
   "cell_type": "markdown",
   "id": "5ad5ac47-4d71-4d5b-bb77-bff2ec76bf7b",
   "metadata": {},
   "source": [
    "## Boolean methods and functions"
   ]
  },
  {
   "cell_type": "markdown",
   "id": "16ab1512-66ba-4494-8863-51d9fedcd801",
   "metadata": {},
   "source": [
    "NumPy provides several boolean methods and functions that are useful for working with boolean (True/False) values or conditions within arrays. These methods facilitate operations such as element-wise comparison, masking, and logical operations. Here are some key boolean methods in NumPy:"
   ]
  },
  {
   "cell_type": "markdown",
   "id": "9dafead9-2287-49e3-8bc1-228c4d87cc27",
   "metadata": {},
   "source": [
    "NumPy supports standard comparison operators (`<`, `<=`, `==`, `!=`, `>`, `>=`) for element-wise comparisons between arrays."
   ]
  },
  {
   "cell_type": "code",
   "execution_count": 25,
   "id": "a8fa4654-3f4f-413f-aa23-691dbc58bf99",
   "metadata": {},
   "outputs": [
    {
     "name": "stdout",
     "output_type": "stream",
     "text": [
      "[False  True  True False]\n"
     ]
    }
   ],
   "source": [
    "arr1 = np.array([1, 2, 3, 4])\n",
    "arr2 = np.array([2, 2, 3, 3])\n",
    "comparison_result = arr1 == arr2\n",
    "print(comparison_result)"
   ]
  },
  {
   "cell_type": "markdown",
   "id": "91867d5d-e90b-4a58-9399-28ab969f4a95",
   "metadata": {},
   "source": [
    "NumPy provides bitwise logical operators (`&` for AND, `|` for OR, `^` for XOR, and `~` for NOT) for element-wise boolean operations."
   ]
  },
  {
   "cell_type": "code",
   "execution_count": 26,
   "id": "d0096c3a-a897-408f-95ab-791aae313ed8",
   "metadata": {},
   "outputs": [
    {
     "name": "stdout",
     "output_type": "stream",
     "text": [
      "[False False False False]\n"
     ]
    }
   ],
   "source": [
    "arr = np.array([True, False, True, False])\n",
    "result = np.logical_and(arr, ~arr)\n",
    "print(result)"
   ]
  },
  {
   "cell_type": "markdown",
   "id": "6dcd8c1b-eba4-47e4-a678-6b180cfdc20e",
   "metadata": {},
   "source": [
    "NumPy has element-wise boolean functions like `np.logical_not()`, `np.logical_and()`, `np.logical_or()`, and `np.logical_xor()` that operate on boolean arrays."
   ]
  },
  {
   "cell_type": "code",
   "execution_count": 27,
   "id": "373f33ec-ca75-4d60-b6d3-b81c3234a17a",
   "metadata": {},
   "outputs": [
    {
     "name": "stdout",
     "output_type": "stream",
     "text": [
      "[False  True False  True]\n"
     ]
    }
   ],
   "source": [
    "arr = np.array([True, False, True, False])\n",
    "result = np.logical_not(arr)\n",
    "print(result)"
   ]
  },
  {
   "cell_type": "markdown",
   "id": "f94615c8-aab2-4ee7-9bae-e33f69155a67",
   "metadata": {},
   "source": [
    "`np.any()` and `np.all()` are used to respectively check if any or all elements in a boolean array are `True`."
   ]
  },
  {
   "cell_type": "code",
   "execution_count": 28,
   "id": "29230a5d-7821-4fe4-9828-d03932b4eb4e",
   "metadata": {},
   "outputs": [
    {
     "name": "stdout",
     "output_type": "stream",
     "text": [
      "Any: True, All: False\n"
     ]
    }
   ],
   "source": [
    "arr = np.array([True, False, True])\n",
    "any_result = np.any(arr)\n",
    "all_result = np.all(arr)\n",
    "print(f\"Any: {any_result}, All: {all_result}\")"
   ]
  },
  {
   "cell_type": "markdown",
   "id": "a9adf848-4b73-4a48-ac31-688136b99204",
   "metadata": {},
   "source": [
    "`np.sum()` is used to count the number of `True` values in a boolean array. "
   ]
  },
  {
   "cell_type": "code",
   "execution_count": 29,
   "id": "96f12c89-bdb9-40cc-a197-9efc9e9ecd78",
   "metadata": {},
   "outputs": [
    {
     "name": "stdout",
     "output_type": "stream",
     "text": [
      "There are 4 values greater than 5.\n",
      "There are 2 values lesser or equal than 5.\n"
     ]
    }
   ],
   "source": [
    "arr = np.array([2, 10, 3, 7, 9, 21])\n",
    "\n",
    "# Count values greater than 5\n",
    "greater_than_5_count = (arr > 5).sum()\n",
    "print(f\"There are {greater_than_5_count} values greater than 5.\")\n",
    "\n",
    "# Count values less than or equal to 5\n",
    "less_or_equal_to_5_count = (arr <= 5).sum()\n",
    "print(f\"There are {less_or_equal_to_5_count} values lesser or equal than 5.\")"
   ]
  },
  {
   "cell_type": "markdown",
   "id": "8ca6c8f8-677f-488c-8926-1bbd75b43090",
   "metadata": {},
   "source": [
    "## NumPy vs standard Python libraries"
   ]
  },
  {
   "cell_type": "markdown",
   "id": "da1184d0-686d-4f89-a6bc-d82ecd0579f2",
   "metadata": {},
   "source": [
    "NumPy is more efficient compared to standard Python libraries for several reasons:\n",
    "\n",
    "1. **Multidimensional Arrays:** NumPy introduces a powerful `ndarray` object that represents arrays of homogeneous data types with N dimensions. These arrays allow for efficient storage and manipulation of large datasets, eliminating the need for Python lists.\n",
    "\n",
    "2. **Vectorized Operations:** NumPy performs operations on entire arrays rather than on individual elements. This is known as vectorization and is implemented in C and Fortran, making operations significantly faster compared to equivalent operations on Python lists.\n",
    "\n",
    "3. **Broadcasting:** NumPy supports broadcasting, which allows operations on arrays of different shapes and sizes without the need for explicit loops. This leads to more concise and efficient code.\n",
    "\n",
    "4. **Memory Efficiency:** NumPy arrays are more memory-efficient than Python lists. They are stored in contiguous blocks of memory, allowing for efficient access and manipulation of elements.\n",
    "\n",
    "5. **Efficient Mathematical Functions:** NumPy provides a wide range of mathematical functions optimized for numerical operations. These functions are implemented in lower-level languages, making them faster than their pure Python equivalents.\n",
    "\n",
    "6. **Parallelization:** NumPy operations can be parallelized, taking advantage of multiple cores and processors, further enhancing computational speed.\n",
    "\n",
    "7. **Specialized Algorithms:** NumPy includes optimized algorithms for common mathematical and scientific operations, such as linear algebra, Fourier analysis, and random number generation.\n",
    "\n",
    "8. **Interoperability:** NumPy seamlessly integrates with other libraries and tools for scientific computing, such as SciPy, Matplotlib, and scikit-learn, creating a cohesive ecosystem for numerical and scientific computing.\n",
    "\n",
    "In summary, NumPy's efficiency arises from its optimized implementation of array operations, vectorization, broadcasting, memory management, and a rich set of mathematical functions. These factors make NumPy a go-to library for numerical computations in Python.\n",
    "\n",
    "The code below compare the execution time of creating a NumPy array `(np.arange(1000))` and creating a standard Python list `list(range(1000))`. The result is then printed, indicating how many times faster NumPy is compared to the standard list creation."
   ]
  },
  {
   "cell_type": "code",
   "execution_count": 30,
   "id": "d47deb22-7282-45f2-84cf-60eaf672b7de",
   "metadata": {},
   "outputs": [
    {
     "name": "stdout",
     "output_type": "stream",
     "text": [
      "NumPy demonstrates its efficiency in handling numerical operations, especially for large datasets.\n",
      "The creation of a NumPy array is 5.07 times faster than creating a standard Python list.\n"
     ]
    }
   ],
   "source": [
    "from timeit import timeit\n",
    "import numpy as np \n",
    "\n",
    "# Measure the execution time of creating a NumPy array\n",
    "np_time = timeit(lambda: np.arange(1000), number=1000)\n",
    "\n",
    "# Measure the execution time of creating a standard Python list\n",
    "std_time = timeit(lambda: list(range(1000)), number=1000)\n",
    "\n",
    "# Print the comparison result\n",
    "print(f\"NumPy demonstrates its efficiency in handling numerical operations, especially for large datasets.\")\n",
    "print(f\"The creation of a NumPy array is {std_time/np_time:.2f} times faster than creating a standard Python list.\")"
   ]
  },
  {
   "cell_type": "code",
   "execution_count": 31,
   "id": "ca4cd1b2-836c-4253-ab68-d20eddb7021c",
   "metadata": {},
   "outputs": [
    {
     "name": "stdout",
     "output_type": "stream",
     "text": [
      "NumPy sum took 1.224281 seconds\n",
      "Python list sum took 10.932941 seconds\n",
      "NumPy is 8.93 times faster\n"
     ]
    }
   ],
   "source": [
    "# NumPy version\n",
    "numpy_time = timeit(lambda: np.sum(np.arange(1, 1000000)), number=1000)\n",
    "\n",
    "# Standard Python list version\n",
    "python_list_time = timeit(lambda: sum(range(1, 1000000)), number=1000)\n",
    "\n",
    "print(f\"NumPy sum took {numpy_time:.6f} seconds\")\n",
    "print(f\"Python list sum took {python_list_time:.6f} seconds\")\n",
    "print(f\"NumPy is {python_list_time/numpy_time:.2f} times faster\")"
   ]
  }
 ],
 "metadata": {
  "kernelspec": {
   "display_name": "Python 3 (ipykernel)",
   "language": "python",
   "name": "python3"
  },
  "language_info": {
   "codemirror_mode": {
    "name": "ipython",
    "version": 3
   },
   "file_extension": ".py",
   "mimetype": "text/x-python",
   "name": "python",
   "nbconvert_exporter": "python",
   "pygments_lexer": "ipython3",
   "version": "3.10.12"
  }
 },
 "nbformat": 4,
 "nbformat_minor": 5
}
